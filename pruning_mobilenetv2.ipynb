{
 "cells": [
  {
   "cell_type": "code",
   "execution_count": 7,
   "metadata": {},
   "outputs": [
    {
     "name": "stdout",
     "output_type": "stream",
     "text": [
      "Looking in links: https://download.pytorch.org/whl/torch_stable.html\n",
      "Collecting torch==1.6.0+cu101\n",
      "  Downloading https://download.pytorch.org/whl/cu101/torch-1.6.0%2Bcu101-cp37-cp37m-linux_x86_64.whl (708.0 MB)\n",
      "\u001b[K     |████████████████████████████████| 708.0 MB 10 kB/s s eta 0:00:01     |██████████▎                     | 228.6 MB 62.9 MB/s eta 0:00:08 eta 0:00:03\n",
      "\u001b[?25hCollecting torchvision==0.7.0+cu101\n",
      "  Downloading https://download.pytorch.org/whl/cu101/torchvision-0.7.0%2Bcu101-cp37-cp37m-linux_x86_64.whl (5.9 MB)\n",
      "\u001b[K     |████████████████████████████████| 5.9 MB 60.1 MB/s eta 0:00:01\n",
      "\u001b[?25hRequirement already satisfied: future in /home/hongky/.conda/envs/tf_tutorial/lib/python3.7/site-packages (from torch==1.6.0+cu101) (0.18.2)\n",
      "Requirement already satisfied: numpy in /home/hongky/.conda/envs/tf_tutorial/lib/python3.7/site-packages (from torch==1.6.0+cu101) (1.19.1)\n",
      "Requirement already satisfied: pillow>=4.1.1 in /home/hongky/.conda/envs/tf_tutorial/lib/python3.7/site-packages (from torchvision==0.7.0+cu101) (7.2.0)\n",
      "Installing collected packages: torch, torchvision\n",
      "  Attempting uninstall: torch\n",
      "    Found existing installation: torch 1.6.0\n",
      "    Uninstalling torch-1.6.0:\n",
      "      Successfully uninstalled torch-1.6.0\n",
      "  Attempting uninstall: torchvision\n",
      "    Found existing installation: torchvision 0.7.0\n",
      "    Uninstalling torchvision-0.7.0:\n",
      "      Successfully uninstalled torchvision-0.7.0\n",
      "Successfully installed torch-1.6.0+cu101 torchvision-0.7.0+cu101\n"
     ]
    }
   ],
   "source": [
    "!pip install torch==1.6.0+cu101 torchvision==0.7.0+cu101 -f https://download.pytorch.org/whl/torch_stable.html"
   ]
  },
  {
   "cell_type": "code",
   "execution_count": 3,
   "metadata": {},
   "outputs": [
    {
     "name": "stdout",
     "output_type": "stream",
     "text": [
      "Collecting mmcv\n",
      "  Downloading mmcv-1.1.4.tar.gz (239 kB)\n",
      "\u001b[K     |████████████████████████████████| 239 kB 7.0 MB/s eta 0:00:01\n",
      "\u001b[?25hCollecting addict\n",
      "  Downloading addict-2.3.0-py3-none-any.whl (3.7 kB)\n",
      "Requirement already satisfied: numpy in /home/hongky/.conda/envs/tf_tutorial/lib/python3.7/site-packages (from mmcv) (1.19.1)\n",
      "Collecting pyyaml\n",
      "  Using cached PyYAML-5.3.1.tar.gz (269 kB)\n",
      "Collecting yapf\n",
      "  Downloading yapf-0.30.0-py2.py3-none-any.whl (190 kB)\n",
      "\u001b[K     |████████████████████████████████| 190 kB 20.1 MB/s eta 0:00:01\n",
      "\u001b[?25hRequirement already satisfied: opencv-python>=3 in /home/hongky/.conda/envs/tf_tutorial/lib/python3.7/site-packages (from mmcv) (4.3.0.36)\n",
      "Building wheels for collected packages: mmcv, pyyaml\n",
      "  Building wheel for mmcv (setup.py) ... \u001b[?25ldone\n",
      "\u001b[?25h  Created wheel for mmcv: filename=mmcv-1.1.4-cp37-cp37m-linux_x86_64.whl size=403074 sha256=decaf2e5ec505606f6048c1fffdf15e69dee17c1a84f688f685c57c2ee129782\n",
      "  Stored in directory: /home/hongky/.cache/pip/wheels/bc/72/bc/1a7ea2da9f9f1b5a0240332d176f9784c75f2e3cdd13ef0a78\n",
      "  Building wheel for pyyaml (setup.py) ... \u001b[?25ldone\n",
      "\u001b[?25h  Created wheel for pyyaml: filename=PyYAML-5.3.1-cp37-cp37m-linux_x86_64.whl size=44619 sha256=9a60c403aa27a2b5513376126bdaf5534cbd69f4d0ccd11e4c2ade1bc0161ecb\n",
      "  Stored in directory: /home/hongky/.cache/pip/wheels/5e/03/1e/e1e954795d6f35dfc7b637fe2277bff021303bd9570ecea653\n",
      "Successfully built mmcv pyyaml\n",
      "Installing collected packages: addict, pyyaml, yapf, mmcv\n",
      "Successfully installed addict-2.3.0 mmcv-1.1.4 pyyaml-5.3.1 yapf-0.30.0\n"
     ]
    }
   ],
   "source": [
    "!pip install mmcv"
   ]
  },
  {
   "cell_type": "code",
   "execution_count": 3,
   "metadata": {},
   "outputs": [],
   "source": [
    "!export LD_LIBRARY_PATH=${LD_LIBRARY_PATH}:/AvaStore/opt/local/cuda-10.2/lib64\n",
    "!export PATH=${PATH}:/AvaStore/opt/local/cuda-10.2/bin"
   ]
  },
  {
   "cell_type": "code",
   "execution_count": 4,
   "metadata": {},
   "outputs": [
    {
     "name": "stdout",
     "output_type": "stream",
     "text": [
      "Collecting dotmap\n",
      "  Using cached dotmap-1.3.17-py3-none-any.whl (10 kB)\n",
      "Installing collected packages: dotmap\n",
      "Successfully installed dotmap-1.3.17\n"
     ]
    }
   ],
   "source": [
    "!pip install dotmap"
   ]
  },
  {
   "cell_type": "code",
   "execution_count": 4,
   "metadata": {},
   "outputs": [
    {
     "name": "stdout",
     "output_type": "stream",
     "text": [
      "No CUDA runtime is found, using CUDA_HOME='/usr/local/cuda'\n",
      "Downloading https://www.cs.toronto.edu/~kriz/cifar-10-python.tar.gz to data.cifar10/cifar-10-python.tar.gz\n",
      "100%|██████████████████████▉| 170385408/170498071 [00:14<00:00, 14360564.46it/s]Extracting data.cifar10/cifar-10-python.tar.gz to data.cifar10\n",
      "Done eval model: MobileNetV2(\n",
      "  (features): Sequential(\n",
      "    (0): conv_bn_relu(\n",
      "      (convbn): Sequential(\n",
      "        (conv): Conv2d(3, 32, kernel_size=(3, 3), stride=(1, 1), padding=(1, 1), bias=False)\n",
      "        (bn): BatchNorm2d(32, eps=1e-05, momentum=0.1, affine=True, track_running_stats=True)\n",
      "        (relu): ReLU6(inplace=True)\n",
      "      )\n",
      "    )\n",
      "    (1): InvertedResidual(\n",
      "      (conv): Sequential(\n",
      "        (dw_conv): Conv2d(32, 32, kernel_size=(3, 3), stride=(1, 1), padding=(1, 1), groups=32, bias=False)\n",
      "        (dw_bn): BatchNorm2d(32, eps=1e-05, momentum=0.1, affine=True, track_running_stats=True)\n",
      "        (dw_relu): ReLU6(inplace=True)\n",
      "        (project_conv): Conv2d(32, 16, kernel_size=(1, 1), stride=(1, 1), bias=False)\n",
      "        (project_bn): BatchNorm2d(16, eps=1e-05, momentum=0.1, affine=True, track_running_stats=True)\n",
      "      )\n",
      "    )\n",
      "    (2): InvertedResidual(\n",
      "      (conv): Sequential(\n",
      "        (expand_conv): Conv2d(16, 96, kernel_size=(1, 1), stride=(1, 1), bias=False)\n",
      "        (expand_bn): BatchNorm2d(96, eps=1e-05, momentum=0.1, affine=True, track_running_stats=True)\n",
      "        (expand_relu): ReLU6(inplace=True)\n",
      "        (dw_conv): Conv2d(96, 96, kernel_size=(3, 3), stride=(1, 1), padding=(1, 1), groups=96, bias=False)\n",
      "        (dw_bn): BatchNorm2d(96, eps=1e-05, momentum=0.1, affine=True, track_running_stats=True)\n",
      "        (dw_relu): ReLU6(inplace=True)\n",
      "        (project_conv): Conv2d(96, 24, kernel_size=(1, 1), stride=(1, 1), bias=False)\n",
      "        (project_bn): BatchNorm2d(24, eps=1e-05, momentum=0.1, affine=True, track_running_stats=True)\n",
      "      )\n",
      "    )\n",
      "    (3): InvertedResidual(\n",
      "      (conv): Sequential(\n",
      "        (expand_conv): Conv2d(24, 144, kernel_size=(1, 1), stride=(1, 1), bias=False)\n",
      "        (expand_bn): BatchNorm2d(144, eps=1e-05, momentum=0.1, affine=True, track_running_stats=True)\n",
      "        (expand_relu): ReLU6(inplace=True)\n",
      "        (dw_conv): Conv2d(144, 144, kernel_size=(3, 3), stride=(1, 1), padding=(1, 1), groups=144, bias=False)\n",
      "        (dw_bn): BatchNorm2d(144, eps=1e-05, momentum=0.1, affine=True, track_running_stats=True)\n",
      "        (dw_relu): ReLU6(inplace=True)\n",
      "        (project_conv): Conv2d(144, 24, kernel_size=(1, 1), stride=(1, 1), bias=False)\n",
      "        (project_bn): BatchNorm2d(24, eps=1e-05, momentum=0.1, affine=True, track_running_stats=True)\n",
      "      )\n",
      "    )\n",
      "    (4): InvertedResidual(\n",
      "      (conv): Sequential(\n",
      "        (expand_conv): Conv2d(24, 144, kernel_size=(1, 1), stride=(1, 1), bias=False)\n",
      "        (expand_bn): BatchNorm2d(144, eps=1e-05, momentum=0.1, affine=True, track_running_stats=True)\n",
      "        (expand_relu): ReLU6(inplace=True)\n",
      "        (dw_conv): Conv2d(144, 144, kernel_size=(3, 3), stride=(1, 1), padding=(1, 1), groups=144, bias=False)\n",
      "        (dw_bn): BatchNorm2d(144, eps=1e-05, momentum=0.1, affine=True, track_running_stats=True)\n",
      "        (dw_relu): ReLU6(inplace=True)\n",
      "        (project_conv): Conv2d(144, 32, kernel_size=(1, 1), stride=(1, 1), bias=False)\n",
      "        (project_bn): BatchNorm2d(32, eps=1e-05, momentum=0.1, affine=True, track_running_stats=True)\n",
      "      )\n",
      "    )\n",
      "    (5): InvertedResidual(\n",
      "      (conv): Sequential(\n",
      "        (expand_conv): Conv2d(32, 192, kernel_size=(1, 1), stride=(1, 1), bias=False)\n",
      "        (expand_bn): BatchNorm2d(192, eps=1e-05, momentum=0.1, affine=True, track_running_stats=True)\n",
      "        (expand_relu): ReLU6(inplace=True)\n",
      "        (dw_conv): Conv2d(192, 192, kernel_size=(3, 3), stride=(1, 1), padding=(1, 1), groups=192, bias=False)\n",
      "        (dw_bn): BatchNorm2d(192, eps=1e-05, momentum=0.1, affine=True, track_running_stats=True)\n",
      "        (dw_relu): ReLU6(inplace=True)\n",
      "        (project_conv): Conv2d(192, 32, kernel_size=(1, 1), stride=(1, 1), bias=False)\n",
      "        (project_bn): BatchNorm2d(32, eps=1e-05, momentum=0.1, affine=True, track_running_stats=True)\n",
      "      )\n",
      "    )\n",
      "    (6): InvertedResidual(\n",
      "      (conv): Sequential(\n",
      "        (expand_conv): Conv2d(32, 192, kernel_size=(1, 1), stride=(1, 1), bias=False)\n",
      "        (expand_bn): BatchNorm2d(192, eps=1e-05, momentum=0.1, affine=True, track_running_stats=True)\n",
      "        (expand_relu): ReLU6(inplace=True)\n",
      "        (dw_conv): Conv2d(192, 192, kernel_size=(3, 3), stride=(1, 1), padding=(1, 1), groups=192, bias=False)\n",
      "        (dw_bn): BatchNorm2d(192, eps=1e-05, momentum=0.1, affine=True, track_running_stats=True)\n",
      "        (dw_relu): ReLU6(inplace=True)\n",
      "        (project_conv): Conv2d(192, 32, kernel_size=(1, 1), stride=(1, 1), bias=False)\n",
      "        (project_bn): BatchNorm2d(32, eps=1e-05, momentum=0.1, affine=True, track_running_stats=True)\n",
      "      )\n",
      "    )\n",
      "    (7): InvertedResidual(\n",
      "      (conv): Sequential(\n",
      "        (expand_conv): Conv2d(32, 192, kernel_size=(1, 1), stride=(1, 1), bias=False)\n",
      "        (expand_bn): BatchNorm2d(192, eps=1e-05, momentum=0.1, affine=True, track_running_stats=True)\n",
      "        (expand_relu): ReLU6(inplace=True)\n",
      "        (dw_conv): Conv2d(192, 192, kernel_size=(3, 3), stride=(2, 2), padding=(1, 1), groups=192, bias=False)\n",
      "        (dw_bn): BatchNorm2d(192, eps=1e-05, momentum=0.1, affine=True, track_running_stats=True)\n",
      "        (dw_relu): ReLU6(inplace=True)\n",
      "        (project_conv): Conv2d(192, 64, kernel_size=(1, 1), stride=(1, 1), bias=False)\n",
      "        (project_bn): BatchNorm2d(64, eps=1e-05, momentum=0.1, affine=True, track_running_stats=True)\n",
      "      )\n",
      "    )\n",
      "    (8): InvertedResidual(\n",
      "      (conv): Sequential(\n",
      "        (expand_conv): Conv2d(64, 384, kernel_size=(1, 1), stride=(1, 1), bias=False)\n",
      "        (expand_bn): BatchNorm2d(384, eps=1e-05, momentum=0.1, affine=True, track_running_stats=True)\n",
      "        (expand_relu): ReLU6(inplace=True)\n",
      "        (dw_conv): Conv2d(384, 384, kernel_size=(3, 3), stride=(1, 1), padding=(1, 1), groups=384, bias=False)\n",
      "        (dw_bn): BatchNorm2d(384, eps=1e-05, momentum=0.1, affine=True, track_running_stats=True)\n",
      "        (dw_relu): ReLU6(inplace=True)\n",
      "        (project_conv): Conv2d(384, 64, kernel_size=(1, 1), stride=(1, 1), bias=False)\n",
      "        (project_bn): BatchNorm2d(64, eps=1e-05, momentum=0.1, affine=True, track_running_stats=True)\n",
      "      )\n",
      "    )\n",
      "    (9): InvertedResidual(\n",
      "      (conv): Sequential(\n",
      "        (expand_conv): Conv2d(64, 384, kernel_size=(1, 1), stride=(1, 1), bias=False)\n",
      "        (expand_bn): BatchNorm2d(384, eps=1e-05, momentum=0.1, affine=True, track_running_stats=True)\n",
      "        (expand_relu): ReLU6(inplace=True)\n",
      "        (dw_conv): Conv2d(384, 384, kernel_size=(3, 3), stride=(1, 1), padding=(1, 1), groups=384, bias=False)\n",
      "        (dw_bn): BatchNorm2d(384, eps=1e-05, momentum=0.1, affine=True, track_running_stats=True)\n",
      "        (dw_relu): ReLU6(inplace=True)\n",
      "        (project_conv): Conv2d(384, 64, kernel_size=(1, 1), stride=(1, 1), bias=False)\n",
      "        (project_bn): BatchNorm2d(64, eps=1e-05, momentum=0.1, affine=True, track_running_stats=True)\n",
      "      )\n",
      "    )\n",
      "    (10): InvertedResidual(\n",
      "      (conv): Sequential(\n",
      "        (expand_conv): Conv2d(64, 384, kernel_size=(1, 1), stride=(1, 1), bias=False)\n",
      "        (expand_bn): BatchNorm2d(384, eps=1e-05, momentum=0.1, affine=True, track_running_stats=True)\n",
      "        (expand_relu): ReLU6(inplace=True)\n",
      "        (dw_conv): Conv2d(384, 384, kernel_size=(3, 3), stride=(1, 1), padding=(1, 1), groups=384, bias=False)\n",
      "        (dw_bn): BatchNorm2d(384, eps=1e-05, momentum=0.1, affine=True, track_running_stats=True)\n",
      "        (dw_relu): ReLU6(inplace=True)\n",
      "        (project_conv): Conv2d(384, 64, kernel_size=(1, 1), stride=(1, 1), bias=False)\n",
      "        (project_bn): BatchNorm2d(64, eps=1e-05, momentum=0.1, affine=True, track_running_stats=True)\n",
      "      )\n",
      "    )\n",
      "    (11): InvertedResidual(\n",
      "      (conv): Sequential(\n",
      "        (expand_conv): Conv2d(64, 384, kernel_size=(1, 1), stride=(1, 1), bias=False)\n",
      "        (expand_bn): BatchNorm2d(384, eps=1e-05, momentum=0.1, affine=True, track_running_stats=True)\n",
      "        (expand_relu): ReLU6(inplace=True)\n",
      "        (dw_conv): Conv2d(384, 384, kernel_size=(3, 3), stride=(1, 1), padding=(1, 1), groups=384, bias=False)\n",
      "        (dw_bn): BatchNorm2d(384, eps=1e-05, momentum=0.1, affine=True, track_running_stats=True)\n",
      "        (dw_relu): ReLU6(inplace=True)\n",
      "        (project_conv): Conv2d(384, 96, kernel_size=(1, 1), stride=(1, 1), bias=False)\n",
      "        (project_bn): BatchNorm2d(96, eps=1e-05, momentum=0.1, affine=True, track_running_stats=True)\n",
      "      )\n",
      "    )\n",
      "    (12): InvertedResidual(\n",
      "      (conv): Sequential(\n",
      "        (expand_conv): Conv2d(96, 576, kernel_size=(1, 1), stride=(1, 1), bias=False)\n",
      "        (expand_bn): BatchNorm2d(576, eps=1e-05, momentum=0.1, affine=True, track_running_stats=True)\n",
      "        (expand_relu): ReLU6(inplace=True)\n",
      "        (dw_conv): Conv2d(576, 576, kernel_size=(3, 3), stride=(1, 1), padding=(1, 1), groups=576, bias=False)\n",
      "        (dw_bn): BatchNorm2d(576, eps=1e-05, momentum=0.1, affine=True, track_running_stats=True)\n",
      "        (dw_relu): ReLU6(inplace=True)\n",
      "        (project_conv): Conv2d(576, 96, kernel_size=(1, 1), stride=(1, 1), bias=False)\n",
      "        (project_bn): BatchNorm2d(96, eps=1e-05, momentum=0.1, affine=True, track_running_stats=True)\n",
      "      )\n",
      "    )\n",
      "    (13): InvertedResidual(\n",
      "      (conv): Sequential(\n",
      "        (expand_conv): Conv2d(96, 576, kernel_size=(1, 1), stride=(1, 1), bias=False)\n",
      "        (expand_bn): BatchNorm2d(576, eps=1e-05, momentum=0.1, affine=True, track_running_stats=True)\n",
      "        (expand_relu): ReLU6(inplace=True)\n",
      "        (dw_conv): Conv2d(576, 576, kernel_size=(3, 3), stride=(1, 1), padding=(1, 1), groups=576, bias=False)\n",
      "        (dw_bn): BatchNorm2d(576, eps=1e-05, momentum=0.1, affine=True, track_running_stats=True)\n",
      "        (dw_relu): ReLU6(inplace=True)\n",
      "        (project_conv): Conv2d(576, 96, kernel_size=(1, 1), stride=(1, 1), bias=False)\n",
      "        (project_bn): BatchNorm2d(96, eps=1e-05, momentum=0.1, affine=True, track_running_stats=True)\n",
      "      )\n",
      "    )\n",
      "    (14): InvertedResidual(\n",
      "      (conv): Sequential(\n",
      "        (expand_conv): Conv2d(96, 576, kernel_size=(1, 1), stride=(1, 1), bias=False)\n",
      "        (expand_bn): BatchNorm2d(576, eps=1e-05, momentum=0.1, affine=True, track_running_stats=True)\n",
      "        (expand_relu): ReLU6(inplace=True)\n",
      "        (dw_conv): Conv2d(576, 576, kernel_size=(3, 3), stride=(2, 2), padding=(1, 1), groups=576, bias=False)\n",
      "        (dw_bn): BatchNorm2d(576, eps=1e-05, momentum=0.1, affine=True, track_running_stats=True)\n",
      "        (dw_relu): ReLU6(inplace=True)\n",
      "        (project_conv): Conv2d(576, 160, kernel_size=(1, 1), stride=(1, 1), bias=False)\n",
      "        (project_bn): BatchNorm2d(160, eps=1e-05, momentum=0.1, affine=True, track_running_stats=True)\n",
      "      )\n",
      "    )\n",
      "    (15): InvertedResidual(\n",
      "      (conv): Sequential(\n",
      "        (expand_conv): Conv2d(160, 960, kernel_size=(1, 1), stride=(1, 1), bias=False)\n",
      "        (expand_bn): BatchNorm2d(960, eps=1e-05, momentum=0.1, affine=True, track_running_stats=True)\n",
      "        (expand_relu): ReLU6(inplace=True)\n",
      "        (dw_conv): Conv2d(960, 960, kernel_size=(3, 3), stride=(1, 1), padding=(1, 1), groups=960, bias=False)\n",
      "        (dw_bn): BatchNorm2d(960, eps=1e-05, momentum=0.1, affine=True, track_running_stats=True)\n",
      "        (dw_relu): ReLU6(inplace=True)\n",
      "        (project_conv): Conv2d(960, 160, kernel_size=(1, 1), stride=(1, 1), bias=False)\n",
      "        (project_bn): BatchNorm2d(160, eps=1e-05, momentum=0.1, affine=True, track_running_stats=True)\n",
      "      )\n",
      "    )\n",
      "    (16): InvertedResidual(\n",
      "      (conv): Sequential(\n",
      "        (expand_conv): Conv2d(160, 960, kernel_size=(1, 1), stride=(1, 1), bias=False)\n",
      "        (expand_bn): BatchNorm2d(960, eps=1e-05, momentum=0.1, affine=True, track_running_stats=True)\n",
      "        (expand_relu): ReLU6(inplace=True)\n",
      "        (dw_conv): Conv2d(960, 960, kernel_size=(3, 3), stride=(1, 1), padding=(1, 1), groups=960, bias=False)\n",
      "        (dw_bn): BatchNorm2d(960, eps=1e-05, momentum=0.1, affine=True, track_running_stats=True)\n",
      "        (dw_relu): ReLU6(inplace=True)\n",
      "        (project_conv): Conv2d(960, 160, kernel_size=(1, 1), stride=(1, 1), bias=False)\n",
      "        (project_bn): BatchNorm2d(160, eps=1e-05, momentum=0.1, affine=True, track_running_stats=True)\n",
      "      )\n",
      "    )\n",
      "    (17): InvertedResidual(\n",
      "      (conv): Sequential(\n",
      "        (expand_conv): Conv2d(160, 960, kernel_size=(1, 1), stride=(1, 1), bias=False)\n",
      "        (expand_bn): BatchNorm2d(960, eps=1e-05, momentum=0.1, affine=True, track_running_stats=True)\n",
      "        (expand_relu): ReLU6(inplace=True)\n",
      "        (dw_conv): Conv2d(960, 960, kernel_size=(3, 3), stride=(1, 1), padding=(1, 1), groups=960, bias=False)\n",
      "        (dw_bn): BatchNorm2d(960, eps=1e-05, momentum=0.1, affine=True, track_running_stats=True)\n",
      "        (dw_relu): ReLU6(inplace=True)\n",
      "        (project_conv): Conv2d(960, 320, kernel_size=(1, 1), stride=(1, 1), bias=False)\n",
      "        (project_bn): BatchNorm2d(320, eps=1e-05, momentum=0.1, affine=True, track_running_stats=True)\n",
      "      )\n",
      "    )\n",
      "    (18): conv_bn_relu(\n",
      "      (convbn): Sequential(\n",
      "        (conv): Conv2d(320, 1280, kernel_size=(1, 1), stride=(1, 1), bias=False)\n",
      "        (bn): BatchNorm2d(1280, eps=1e-05, momentum=0.1, affine=True, track_running_stats=True)\n",
      "        (relu): ReLU6(inplace=True)\n",
      "      )\n",
      "    )\n",
      "  )\n",
      "  (classifier): Sequential(\n",
      "    (0): Dropout(p=0.2, inplace=False)\n",
      "    (1): Linear(in_features=1280, out_features=10, bias=True)\n",
      "  )\n",
      ")\n"
     ]
    },
    {
     "name": "stdout",
     "output_type": "stream",
     "text": [
      "\n",
      "  0%|                                                   | 0/391 [00:00<?, ?it/s]\u001b[A\n",
      "170500096it [00:29, 14360564.46it/s]                                            \u001b[A\n",
      "  1%|▏                                          | 2/391 [00:13<47:22,  7.31s/it]\u001b[A\n",
      "  1%|▎                                          | 3/391 [00:18<43:33,  6.74s/it]\u001b[A\n",
      "  1%|▍                                          | 4/391 [00:23<39:57,  6.19s/it]\u001b[A\n",
      "  1%|▌                                          | 5/391 [00:28<36:44,  5.71s/it]\u001b[A\n",
      "  2%|▋                                          | 6/391 [00:32<33:45,  5.26s/it]\u001b[A\n",
      "  2%|▊                                          | 7/391 [00:37<32:05,  5.02s/it]\u001b[A\n",
      "  2%|▉                                          | 8/391 [00:41<31:16,  4.90s/it]\u001b[A\n",
      "  2%|▉                                          | 9/391 [00:45<29:45,  4.68s/it]\u001b[A\n",
      "  3%|█                                         | 10/391 [00:50<29:00,  4.57s/it]\u001b[A\n",
      "  3%|█▏                                        | 11/391 [00:53<27:29,  4.34s/it]\u001b[A\n",
      "  3%|█▎                                        | 12/391 [00:58<28:40,  4.54s/it]\u001b[A\n",
      "  3%|█▍                                        | 13/391 [01:02<26:52,  4.27s/it]\u001b[A\n",
      "  4%|█▌                                        | 14/391 [01:06<26:19,  4.19s/it]\u001b[A\n",
      "  4%|█▌                                        | 15/391 [01:10<26:25,  4.22s/it]\u001b[A\n",
      "  4%|█▋                                        | 16/391 [01:15<26:27,  4.23s/it]\u001b[A\n",
      "  4%|█▊                                        | 17/391 [01:19<26:20,  4.23s/it]\u001b[A\n",
      "  5%|█▉                                        | 18/391 [01:23<26:43,  4.30s/it]\u001b[A\n",
      "  5%|██                                        | 19/391 [01:27<25:41,  4.14s/it]\u001b[A\n",
      "  5%|██▏                                       | 20/391 [01:31<25:36,  4.14s/it]\u001b[A\n",
      "  5%|██▎                                       | 21/391 [01:35<25:28,  4.13s/it]\u001b[A\n",
      "  6%|██▎                                       | 22/391 [01:39<25:02,  4.07s/it]\u001b[A\n",
      "  6%|██▍                                       | 23/391 [01:43<24:40,  4.02s/it]\u001b[A\n",
      "  6%|██▌                                       | 24/391 [01:48<25:27,  4.16s/it]\u001b[A\n",
      "  6%|██▋                                       | 25/391 [01:51<24:03,  3.94s/it]\u001b[A\n",
      "  7%|██▊                                       | 26/391 [01:55<23:10,  3.81s/it]\u001b[A\n",
      "  7%|██▉                                       | 27/391 [02:00<25:16,  4.17s/it]\u001b[A\n",
      "  7%|███                                       | 28/391 [02:03<23:52,  3.95s/it]\u001b[A\n",
      "  7%|███                                       | 29/391 [02:07<24:26,  4.05s/it]\u001b[A\n",
      "  8%|███▏                                      | 30/391 [02:11<24:32,  4.08s/it]\u001b[A\n",
      "  8%|███▎                                      | 31/391 [02:16<24:32,  4.09s/it]\u001b[A\n",
      "  8%|███▍                                      | 32/391 [02:20<24:30,  4.10s/it]\u001b[A\n",
      "  8%|███▌                                      | 33/391 [02:23<23:49,  3.99s/it]\u001b[A\n",
      "  9%|███▋                                      | 34/391 [02:27<23:12,  3.90s/it]\u001b[A\n",
      "  9%|███▊                                      | 35/391 [02:31<22:25,  3.78s/it]\u001b[A\n",
      "  9%|███▊                                      | 36/391 [02:34<22:24,  3.79s/it]\u001b[A\n",
      "  9%|███▉                                      | 37/391 [02:38<22:08,  3.75s/it]\u001b[A\n",
      " 10%|████                                      | 38/391 [02:42<22:14,  3.78s/it]\u001b[A\n",
      " 10%|████▏                                     | 39/391 [02:46<22:50,  3.89s/it]\u001b[A\n",
      " 10%|████▎                                     | 40/391 [02:50<23:00,  3.93s/it]\u001b[A\n",
      " 10%|████▍                                     | 41/391 [02:54<23:14,  3.98s/it]\u001b[A\n",
      " 11%|████▌                                     | 42/391 [02:58<23:08,  3.98s/it]\u001b[A\n",
      " 11%|████▌                                     | 43/391 [03:02<23:12,  4.00s/it]\u001b[A\n",
      " 11%|████▋                                     | 44/391 [03:07<23:44,  4.10s/it]\u001b[A\n",
      " 12%|████▊                                     | 45/391 [03:11<23:55,  4.15s/it]\u001b[A\n",
      " 12%|████▉                                     | 46/391 [03:15<23:09,  4.03s/it]\u001b[A\n",
      " 12%|█████                                     | 47/391 [03:19<23:08,  4.04s/it]\u001b[A\n",
      " 12%|█████▏                                    | 48/391 [03:22<22:37,  3.96s/it]\u001b[A\n",
      " 13%|█████▎                                    | 49/391 [03:26<21:52,  3.84s/it]\u001b[A\n",
      " 13%|█████▎                                    | 50/391 [03:30<22:08,  3.90s/it]\u001b[A\n",
      " 13%|█████▍                                    | 51/391 [03:34<22:06,  3.90s/it]\u001b[A\n",
      " 13%|█████▌                                    | 52/391 [03:38<21:45,  3.85s/it]\u001b[A\n",
      " 14%|█████▋                                    | 53/391 [03:41<21:32,  3.82s/it]\u001b[A\n",
      " 14%|█████▊                                    | 54/391 [03:45<21:23,  3.81s/it]\u001b[A\n",
      " 14%|█████▉                                    | 55/391 [03:49<21:24,  3.82s/it]\u001b[A\n",
      " 14%|██████                                    | 56/391 [03:53<21:25,  3.84s/it]\u001b[A\n",
      " 15%|██████                                    | 57/391 [03:57<21:46,  3.91s/it]\u001b[A\n",
      " 15%|██████▏                                   | 58/391 [04:01<21:24,  3.86s/it]\u001b[A\n",
      " 15%|██████▎                                   | 59/391 [04:05<21:30,  3.89s/it]\u001b[A\n",
      " 15%|██████▍                                   | 60/391 [04:09<21:27,  3.89s/it]\u001b[A\n",
      " 16%|██████▌                                   | 61/391 [04:12<20:59,  3.82s/it]\u001b[A\n",
      " 16%|██████▋                                   | 62/391 [04:16<21:30,  3.92s/it]\u001b[A\n",
      " 16%|██████▊                                   | 63/391 [04:21<23:01,  4.21s/it]\u001b[A\n",
      " 16%|██████▊                                   | 64/391 [04:26<23:13,  4.26s/it]\u001b[A\n",
      " 17%|██████▉                                   | 65/391 [04:29<22:21,  4.11s/it]\u001b[A\n",
      " 17%|███████                                   | 66/391 [04:34<22:14,  4.11s/it]\u001b[A\n",
      " 17%|███████▏                                  | 67/391 [04:37<21:48,  4.04s/it]\u001b[A\n",
      " 17%|███████▎                                  | 68/391 [04:42<21:58,  4.08s/it]\u001b[A\n",
      " 18%|███████▍                                  | 69/391 [04:46<23:03,  4.30s/it]\u001b[A\n",
      " 18%|███████▌                                  | 70/391 [04:51<23:33,  4.40s/it]\u001b[A\n",
      " 18%|███████▋                                  | 71/391 [04:55<22:22,  4.19s/it]\u001b[A\n",
      " 18%|███████▋                                  | 72/391 [04:59<22:10,  4.17s/it]\u001b[A\n",
      " 19%|███████▊                                  | 73/391 [05:03<21:36,  4.08s/it]\u001b[A\n",
      " 19%|███████▉                                  | 74/391 [05:06<20:47,  3.94s/it]\u001b[A\n",
      " 19%|████████                                  | 75/391 [05:10<20:48,  3.95s/it]\u001b[A\n",
      " 19%|████████▏                                 | 76/391 [05:14<20:22,  3.88s/it]\u001b[A\n",
      " 20%|████████▎                                 | 77/391 [05:18<20:15,  3.87s/it]\u001b[A\n",
      " 20%|████████▍                                 | 78/391 [05:22<20:27,  3.92s/it]\u001b[A\n",
      " 20%|████████▍                                 | 79/391 [05:26<20:28,  3.94s/it]\u001b[A\n",
      " 20%|████████▌                                 | 80/391 [05:30<20:33,  3.97s/it]\u001b[A\n",
      " 21%|████████▋                                 | 81/391 [05:34<20:10,  3.91s/it]\u001b[A\n",
      " 21%|████████▊                                 | 82/391 [05:38<20:44,  4.03s/it]\u001b[A\n",
      " 21%|████████▉                                 | 83/391 [05:42<19:54,  3.88s/it]\u001b[A\n",
      " 21%|█████████                                 | 84/391 [05:45<19:50,  3.88s/it]\u001b[A\n",
      " 22%|█████████▏                                | 85/391 [05:49<19:15,  3.78s/it]\u001b[A\n",
      " 22%|█████████▏                                | 86/391 [05:53<19:00,  3.74s/it]\u001b[A\n",
      " 22%|█████████▎                                | 87/391 [05:57<20:08,  3.98s/it]\u001b[A\n",
      " 23%|█████████▍                                | 88/391 [06:00<18:57,  3.75s/it]\u001b[A\n",
      " 23%|█████████▌                                | 89/391 [06:06<21:13,  4.22s/it]\u001b[A\n",
      " 23%|█████████▋                                | 90/391 [06:10<21:03,  4.20s/it]\u001b[A\n",
      " 23%|█████████▊                                | 91/391 [06:14<20:36,  4.12s/it]\u001b[A\n",
      " 24%|█████████▉                                | 92/391 [06:18<20:02,  4.02s/it]\u001b[A\n",
      " 24%|█████████▉                                | 93/391 [06:21<19:28,  3.92s/it]\u001b[A\n",
      " 24%|██████████                                | 94/391 [06:25<19:26,  3.93s/it]\u001b[A\n",
      " 24%|██████████▏                               | 95/391 [06:29<19:05,  3.87s/it]\u001b[A\n",
      " 25%|██████████▎                               | 96/391 [06:33<19:22,  3.94s/it]\u001b[A\n",
      " 25%|██████████▍                               | 97/391 [06:37<19:21,  3.95s/it]\u001b[A\n",
      " 25%|██████████▌                               | 98/391 [06:41<19:03,  3.90s/it]\u001b[A\n",
      " 25%|██████████▋                               | 99/391 [06:45<19:16,  3.96s/it]\u001b[A\n",
      " 26%|██████████▍                              | 100/391 [06:49<19:22,  4.00s/it]\u001b[A\n",
      " 26%|██████████▌                              | 101/391 [06:53<20:00,  4.14s/it]\u001b[A\n",
      " 26%|██████████▋                              | 102/391 [06:57<19:35,  4.07s/it]\u001b[A\n",
      " 26%|██████████▊                              | 103/391 [07:01<19:19,  4.03s/it]\u001b[A\n",
      " 27%|██████████▉                              | 104/391 [07:05<19:03,  3.98s/it]\u001b[A\n",
      " 27%|███████████                              | 105/391 [07:08<17:52,  3.75s/it]\u001b[A\n",
      " 27%|███████████                              | 106/391 [07:12<17:25,  3.67s/it]\u001b[A\n",
      " 27%|███████████▏                             | 107/391 [07:16<17:33,  3.71s/it]\u001b[A\n",
      " 28%|███████████▎                             | 108/391 [07:19<17:33,  3.72s/it]\u001b[A\n",
      " 28%|███████████▍                             | 109/391 [07:23<17:29,  3.72s/it]\u001b[A\n",
      " 28%|███████████▌                             | 110/391 [07:28<18:24,  3.93s/it]\u001b[A\n",
      " 28%|███████████▋                             | 111/391 [07:31<18:10,  3.90s/it]\u001b[A\n",
      " 29%|███████████▋                             | 112/391 [07:35<18:21,  3.95s/it]\u001b[A\n",
      " 29%|███████████▊                             | 113/391 [07:40<18:40,  4.03s/it]\u001b[A\n",
      " 29%|███████████▉                             | 114/391 [07:44<19:04,  4.13s/it]\u001b[A\n",
      " 29%|████████████                             | 115/391 [07:48<18:33,  4.03s/it]\u001b[A\n",
      " 30%|████████████▏                            | 116/391 [07:52<18:13,  3.98s/it]\u001b[A\n",
      " 30%|████████████▎                            | 117/391 [07:56<18:09,  3.98s/it]\u001b[A\n",
      " 30%|████████████▎                            | 118/391 [07:59<17:39,  3.88s/it]\u001b[A\n",
      " 30%|████████████▍                            | 119/391 [08:03<17:17,  3.81s/it]\u001b[A\n",
      " 31%|████████████▌                            | 120/391 [08:07<17:32,  3.88s/it]\u001b[A\n",
      " 31%|████████████▋                            | 121/391 [08:11<17:03,  3.79s/it]\u001b[A\n",
      " 31%|████████████▊                            | 122/391 [08:15<17:16,  3.85s/it]\u001b[A\n",
      " 31%|████████████▉                            | 123/391 [08:18<17:03,  3.82s/it]\u001b[A\n",
      " 32%|█████████████                            | 124/391 [08:22<17:17,  3.89s/it]\u001b[A\n",
      " 32%|█████████████                            | 125/391 [08:26<17:09,  3.87s/it]\u001b[A\n",
      " 32%|█████████████▏                           | 126/391 [08:31<18:14,  4.13s/it]\u001b[A\n",
      " 32%|█████████████▎                           | 127/391 [08:35<18:09,  4.13s/it]\u001b[A\n",
      " 33%|█████████████▍                           | 128/391 [08:39<17:57,  4.10s/it]\u001b[A\n",
      " 33%|█████████████▌                           | 129/391 [08:43<17:38,  4.04s/it]\u001b[A\n",
      " 33%|█████████████▋                           | 130/391 [08:47<17:38,  4.06s/it]\u001b[A\n",
      " 34%|█████████████▋                           | 131/391 [08:51<17:11,  3.97s/it]\u001b[A\n",
      " 34%|█████████████▊                           | 132/391 [08:54<16:29,  3.82s/it]\u001b[A\n",
      " 34%|█████████████▉                           | 133/391 [08:58<16:24,  3.81s/it]\u001b[A\n",
      " 34%|██████████████                           | 134/391 [09:02<16:50,  3.93s/it]\u001b[A\n",
      " 35%|██████████████▏                          | 135/391 [09:06<16:37,  3.90s/it]\u001b[A\n",
      " 35%|██████████████▎                          | 136/391 [09:10<16:14,  3.82s/it]\u001b[A\n",
      " 35%|██████████████▎                          | 137/391 [09:14<16:13,  3.83s/it]\u001b[A\n",
      " 35%|██████████████▍                          | 138/391 [09:17<16:07,  3.83s/it]\u001b[A\n",
      " 36%|██████████████▌                          | 139/391 [09:21<16:13,  3.86s/it]\u001b[A\n",
      " 36%|██████████████▋                          | 140/391 [09:25<16:07,  3.85s/it]\u001b[A\n",
      " 36%|██████████████▊                          | 141/391 [09:29<16:17,  3.91s/it]\u001b[A\n",
      " 36%|██████████████▉                          | 142/391 [09:33<16:08,  3.89s/it]\u001b[A\n",
      " 37%|██████████████▉                          | 143/391 [09:37<16:31,  4.00s/it]\u001b[A\n",
      " 37%|███████████████                          | 144/391 [09:42<16:53,  4.10s/it]\u001b[A\n",
      " 37%|███████████████▏                         | 145/391 [09:46<17:17,  4.22s/it]\u001b[A\n",
      " 37%|███████████████▎                         | 146/391 [09:50<16:46,  4.11s/it]\u001b[A\n",
      " 38%|███████████████▍                         | 147/391 [09:54<16:37,  4.09s/it]\u001b[A\n",
      " 38%|███████████████▌                         | 148/391 [09:59<17:26,  4.31s/it]\u001b[A\n",
      " 38%|███████████████▌                         | 149/391 [10:03<16:42,  4.14s/it]\u001b[A\n",
      " 38%|███████████████▋                         | 150/391 [10:07<16:30,  4.11s/it]\u001b[A\n",
      " 39%|███████████████▊                         | 151/391 [10:11<16:22,  4.09s/it]\u001b[A\n",
      " 39%|███████████████▉                         | 152/391 [10:15<16:12,  4.07s/it]\u001b[A\n",
      " 39%|████████████████                         | 153/391 [10:20<17:17,  4.36s/it]\u001b[A\n",
      " 39%|████████████████▏                        | 154/391 [10:24<17:03,  4.32s/it]\u001b[A\n",
      " 40%|████████████████▎                        | 155/391 [10:28<16:53,  4.29s/it]\u001b[A\n",
      " 40%|████████████████▎                        | 156/391 [10:33<16:44,  4.28s/it]\u001b[A\n",
      " 40%|████████████████▍                        | 157/391 [10:37<17:08,  4.40s/it]\u001b[A\n",
      " 40%|████████████████▌                        | 158/391 [10:41<16:29,  4.25s/it]\u001b[A\n",
      " 41%|████████████████▋                        | 159/391 [10:45<16:28,  4.26s/it]\u001b[A\n",
      " 41%|████████████████▊                        | 160/391 [10:49<15:33,  4.04s/it]\u001b[A\n",
      " 41%|████████████████▉                        | 161/391 [10:53<15:29,  4.04s/it]\u001b[A\n",
      " 41%|████████████████▉                        | 162/391 [10:57<15:51,  4.15s/it]\u001b[A\n",
      " 42%|█████████████████                        | 163/391 [11:02<16:02,  4.22s/it]\u001b[A\n",
      " 42%|█████████████████▏                       | 164/391 [11:06<15:38,  4.13s/it]\u001b[A\n",
      " 42%|█████████████████▎                       | 165/391 [11:10<15:20,  4.07s/it]\u001b[A\n",
      " 42%|█████████████████▍                       | 166/391 [11:14<15:47,  4.21s/it]\u001b[A\n",
      " 43%|█████████████████▌                       | 167/391 [11:18<15:13,  4.08s/it]\u001b[A\n",
      " 43%|█████████████████▌                       | 168/391 [11:22<15:26,  4.16s/it]\u001b[A\n",
      " 43%|█████████████████▋                       | 169/391 [11:26<15:12,  4.11s/it]\u001b[A\n",
      " 43%|█████████████████▊                       | 170/391 [11:30<15:07,  4.11s/it]\u001b[A\n",
      " 44%|█████████████████▉                       | 171/391 [11:35<15:06,  4.12s/it]\u001b[A\n",
      " 44%|██████████████████                       | 172/391 [11:39<14:58,  4.10s/it]\u001b[A\n",
      " 44%|██████████████████▏                      | 173/391 [11:43<15:24,  4.24s/it]\u001b[A\n",
      " 45%|██████████████████▏                      | 174/391 [11:47<14:55,  4.13s/it]\u001b[A\n",
      " 45%|██████████████████▎                      | 175/391 [11:52<15:20,  4.26s/it]\u001b[A\n",
      " 45%|██████████████████▍                      | 176/391 [11:55<14:41,  4.10s/it]\u001b[A\n",
      " 45%|██████████████████▌                      | 177/391 [11:59<14:28,  4.06s/it]\u001b[A\n",
      " 46%|██████████████████▋                      | 178/391 [12:03<14:32,  4.09s/it]\u001b[A\n",
      " 46%|██████████████████▊                      | 179/391 [12:07<14:02,  3.98s/it]\u001b[A\n",
      " 46%|██████████████████▊                      | 180/391 [12:11<13:51,  3.94s/it]\u001b[A\n",
      " 46%|██████████████████▉                      | 181/391 [12:15<14:12,  4.06s/it]\u001b[A\n",
      " 47%|███████████████████                      | 182/391 [12:19<13:50,  3.97s/it]\u001b[A\n",
      " 47%|███████████████████▏                     | 183/391 [12:23<13:46,  3.97s/it]\u001b[A\n",
      " 47%|███████████████████▎                     | 184/391 [12:27<13:48,  4.00s/it]\u001b[A\n",
      " 47%|███████████████████▍                     | 185/391 [12:32<14:16,  4.16s/it]\u001b[A\n",
      " 48%|███████████████████▌                     | 186/391 [12:36<14:02,  4.11s/it]\u001b[A\n",
      " 48%|███████████████████▌                     | 187/391 [12:40<13:54,  4.09s/it]\u001b[A\n",
      " 48%|███████████████████▋                     | 188/391 [12:44<13:41,  4.05s/it]\u001b[A\n",
      " 48%|███████████████████▊                     | 189/391 [12:48<13:44,  4.08s/it]\u001b[A\n",
      " 49%|███████████████████▉                     | 190/391 [12:52<13:39,  4.08s/it]\u001b[A\n",
      " 49%|████████████████████                     | 191/391 [12:56<13:24,  4.02s/it]\u001b[A\n",
      " 49%|████████████████████▏                    | 192/391 [13:00<13:05,  3.95s/it]\u001b[A\n",
      " 49%|████████████████████▏                    | 193/391 [13:04<13:03,  3.96s/it]\u001b[A\n"
     ]
    },
    {
     "name": "stdout",
     "output_type": "stream",
     "text": [
      " 50%|████████████████████▎                    | 194/391 [13:08<13:11,  4.02s/it]\u001b[A\n",
      " 50%|████████████████████▍                    | 195/391 [13:12<13:00,  3.98s/it]\u001b[A\n",
      " 50%|████████████████████▌                    | 196/391 [13:15<12:46,  3.93s/it]\u001b[A\n",
      " 50%|████████████████████▋                    | 197/391 [13:19<12:30,  3.87s/it]\u001b[A\n",
      " 51%|████████████████████▊                    | 198/391 [13:23<12:35,  3.91s/it]\u001b[A\n",
      " 51%|████████████████████▊                    | 199/391 [13:27<12:38,  3.95s/it]\u001b[A\n",
      " 51%|████████████████████▉                    | 200/391 [13:31<12:36,  3.96s/it]\u001b[A\n",
      " 51%|█████████████████████                    | 201/391 [13:35<12:35,  3.98s/it]\u001b[A\n",
      " 52%|█████████████████████▏                   | 202/391 [13:39<12:23,  3.93s/it]\u001b[A\n",
      " 52%|█████████████████████▎                   | 203/391 [13:43<12:16,  3.92s/it]\u001b[A\n",
      " 52%|█████████████████████▍                   | 204/391 [13:46<11:51,  3.81s/it]\u001b[A\n",
      " 52%|█████████████████████▍                   | 205/391 [13:51<12:05,  3.90s/it]\u001b[A\n",
      " 53%|█████████████████████▌                   | 206/391 [13:54<11:57,  3.88s/it]\u001b[A\n",
      " 53%|█████████████████████▋                   | 207/391 [13:58<12:05,  3.94s/it]\u001b[A\n",
      " 53%|█████████████████████▊                   | 208/391 [14:02<11:56,  3.92s/it]\u001b[A\n",
      " 53%|█████████████████████▉                   | 209/391 [14:06<12:01,  3.96s/it]\u001b[A\n",
      " 54%|██████████████████████                   | 210/391 [14:11<12:21,  4.10s/it]\u001b[A\n",
      " 54%|██████████████████████▏                  | 211/391 [14:14<11:51,  3.95s/it]\u001b[A\n",
      " 54%|██████████████████████▏                  | 212/391 [14:18<11:49,  3.96s/it]\u001b[A\n",
      " 54%|██████████████████████▎                  | 213/391 [14:22<11:40,  3.94s/it]\u001b[A\n",
      " 55%|██████████████████████▍                  | 214/391 [14:27<11:57,  4.05s/it]\u001b[A\n",
      " 55%|██████████████████████▌                  | 215/391 [14:31<12:18,  4.20s/it]\u001b[A\n",
      " 55%|██████████████████████▋                  | 216/391 [14:35<11:55,  4.09s/it]\u001b[A\n",
      " 55%|██████████████████████▊                  | 217/391 [14:39<11:42,  4.04s/it]\u001b[A\n",
      " 56%|██████████████████████▊                  | 218/391 [14:43<11:32,  4.00s/it]\u001b[A\n",
      " 56%|██████████████████████▉                  | 219/391 [14:47<11:22,  3.97s/it]\u001b[A\n",
      " 56%|███████████████████████                  | 220/391 [14:51<11:25,  4.01s/it]\u001b[A\n",
      " 57%|███████████████████████▏                 | 221/391 [14:55<11:45,  4.15s/it]\u001b[A\n",
      " 57%|███████████████████████▎                 | 222/391 [15:00<11:47,  4.19s/it]\u001b[A\n",
      " 57%|███████████████████████▍                 | 223/391 [15:04<11:41,  4.17s/it]\u001b[A\n",
      " 57%|███████████████████████▍                 | 224/391 [15:08<11:51,  4.26s/it]\u001b[A\n",
      " 58%|███████████████████████▌                 | 225/391 [15:12<11:25,  4.13s/it]\u001b[A\n",
      " 58%|███████████████████████▋                 | 226/391 [15:16<11:22,  4.14s/it]\u001b[A\n",
      " 58%|███████████████████████▊                 | 227/391 [15:20<11:12,  4.10s/it]\u001b[A\n",
      " 58%|███████████████████████▉                 | 228/391 [15:25<11:33,  4.26s/it]\u001b[A\n",
      " 59%|████████████████████████                 | 229/391 [15:29<11:35,  4.29s/it]\u001b[A\n",
      " 59%|████████████████████████                 | 230/391 [15:33<11:05,  4.13s/it]\u001b[A\n",
      " 59%|████████████████████████▏                | 231/391 [15:37<10:53,  4.09s/it]\u001b[A\n",
      " 59%|████████████████████████▎                | 232/391 [15:41<10:26,  3.94s/it]\u001b[A\n",
      " 60%|████████████████████████▍                | 233/391 [15:44<10:19,  3.92s/it]\u001b[A\n",
      " 60%|████████████████████████▌                | 234/391 [15:48<10:15,  3.92s/it]\u001b[A\n",
      " 60%|████████████████████████▋                | 235/391 [15:52<09:54,  3.81s/it]\u001b[A\n",
      " 60%|████████████████████████▋                | 236/391 [15:57<10:45,  4.16s/it]\u001b[A\n",
      " 61%|████████████████████████▊                | 237/391 [16:00<09:56,  3.87s/it]\u001b[A\n",
      " 61%|████████████████████████▉                | 238/391 [16:04<10:06,  3.97s/it]\u001b[A\n",
      " 61%|█████████████████████████                | 239/391 [16:08<10:05,  3.98s/it]\u001b[A\n",
      " 61%|█████████████████████████▏               | 240/391 [16:12<09:46,  3.89s/it]\u001b[A\n",
      " 62%|█████████████████████████▎               | 241/391 [16:15<09:25,  3.77s/it]\u001b[A\n",
      " 62%|█████████████████████████▍               | 242/391 [16:19<09:20,  3.76s/it]\u001b[A\n",
      " 62%|█████████████████████████▍               | 243/391 [16:23<09:22,  3.80s/it]\u001b[A\n",
      " 62%|█████████████████████████▌               | 244/391 [16:27<09:18,  3.80s/it]\u001b[A\n",
      " 63%|█████████████████████████▋               | 245/391 [16:31<09:20,  3.84s/it]\u001b[A\n",
      " 63%|█████████████████████████▊               | 246/391 [16:34<09:11,  3.81s/it]\u001b[A\n",
      " 63%|█████████████████████████▉               | 247/391 [16:40<10:04,  4.20s/it]\u001b[A\n",
      " 63%|██████████████████████████               | 248/391 [16:44<10:28,  4.40s/it]\u001b[A\n",
      " 64%|██████████████████████████               | 249/391 [16:48<10:07,  4.28s/it]\u001b[A\n",
      " 64%|██████████████████████████▏              | 250/391 [16:53<10:01,  4.27s/it]\u001b[A\n",
      " 64%|██████████████████████████▎              | 251/391 [16:57<09:46,  4.19s/it]\u001b[A\n",
      " 64%|██████████████████████████▍              | 252/391 [17:01<09:52,  4.26s/it]\u001b[A\n",
      " 65%|██████████████████████████▌              | 253/391 [17:06<10:06,  4.40s/it]\u001b[A\n",
      " 65%|██████████████████████████▋              | 254/391 [17:10<09:56,  4.36s/it]\u001b[A\n",
      " 65%|██████████████████████████▋              | 255/391 [17:14<09:52,  4.35s/it]\u001b[A\n",
      " 65%|██████████████████████████▊              | 256/391 [17:18<09:18,  4.14s/it]\u001b[A\n",
      " 66%|██████████████████████████▉              | 257/391 [17:22<09:07,  4.08s/it]\u001b[A\n",
      " 66%|███████████████████████████              | 258/391 [17:26<08:47,  3.97s/it]\u001b[A\n",
      " 66%|███████████████████████████▏             | 259/391 [17:30<08:59,  4.08s/it]\u001b[A\n",
      " 66%|███████████████████████████▎             | 260/391 [17:34<08:39,  3.96s/it]\u001b[A\n",
      " 67%|███████████████████████████▎             | 261/391 [17:39<09:09,  4.23s/it]\u001b[A\n",
      " 67%|███████████████████████████▍             | 262/391 [17:43<09:19,  4.34s/it]\u001b[A\n",
      " 67%|███████████████████████████▌             | 263/391 [17:47<09:06,  4.27s/it]\u001b[A\n",
      " 68%|███████████████████████████▋             | 264/391 [17:51<08:48,  4.16s/it]\u001b[A\n",
      " 68%|███████████████████████████▊             | 265/391 [17:55<08:45,  4.17s/it]\u001b[A\n",
      " 68%|███████████████████████████▉             | 266/391 [18:00<08:40,  4.17s/it]\u001b[A\n",
      " 68%|███████████████████████████▉             | 267/391 [18:04<08:36,  4.16s/it]\u001b[A\n",
      " 69%|████████████████████████████             | 268/391 [18:08<08:35,  4.19s/it]\u001b[A\n",
      " 69%|████████████████████████████▏            | 269/391 [18:12<08:41,  4.28s/it]\u001b[A\n",
      " 69%|████████████████████████████▎            | 270/391 [18:17<08:46,  4.35s/it]\u001b[A\n",
      " 69%|████████████████████████████▍            | 271/391 [18:22<08:54,  4.45s/it]\u001b[A\n",
      " 70%|████████████████████████████▌            | 272/391 [18:26<08:47,  4.43s/it]\u001b[A\n",
      " 70%|████████████████████████████▋            | 273/391 [18:31<09:00,  4.58s/it]\u001b[A\n",
      " 70%|████████████████████████████▋            | 274/391 [18:35<08:47,  4.51s/it]\u001b[A\n",
      " 70%|████████████████████████████▊            | 275/391 [18:40<08:33,  4.42s/it]\u001b[A\n",
      " 71%|████████████████████████████▉            | 276/391 [18:43<08:11,  4.27s/it]\u001b[A\n",
      " 71%|█████████████████████████████            | 277/391 [18:48<08:12,  4.32s/it]\u001b[A\n",
      " 71%|█████████████████████████████▏           | 278/391 [18:52<08:10,  4.34s/it]\u001b[A\n",
      " 71%|█████████████████████████████▎           | 279/391 [18:57<08:08,  4.36s/it]\u001b[A\n",
      " 72%|█████████████████████████████▎           | 280/391 [19:02<08:31,  4.61s/it]\u001b[A\n",
      " 72%|█████████████████████████████▍           | 281/391 [19:06<08:19,  4.54s/it]\u001b[A\n",
      " 72%|█████████████████████████████▌           | 282/391 [19:11<08:09,  4.49s/it]\u001b[A\n",
      " 72%|█████████████████████████████▋           | 283/391 [19:15<08:04,  4.49s/it]\u001b[A\n",
      " 73%|█████████████████████████████▊           | 284/391 [19:20<08:22,  4.70s/it]\u001b[A\n",
      " 73%|█████████████████████████████▉           | 285/391 [19:24<07:52,  4.46s/it]\u001b[A\n",
      " 73%|█████████████████████████████▉           | 286/391 [19:28<07:37,  4.36s/it]\u001b[A\n",
      " 73%|██████████████████████████████           | 287/391 [19:33<07:48,  4.51s/it]\u001b[A\n",
      " 74%|██████████████████████████████▏          | 288/391 [19:37<07:24,  4.32s/it]\u001b[A\n",
      " 74%|██████████████████████████████▎          | 289/391 [19:42<07:40,  4.52s/it]\u001b[A\n",
      " 74%|██████████████████████████████▍          | 290/391 [19:47<07:38,  4.54s/it]\u001b[A\n",
      " 74%|██████████████████████████████▌          | 291/391 [19:51<07:28,  4.48s/it]\u001b[A\n",
      " 75%|██████████████████████████████▌          | 292/391 [19:55<07:10,  4.35s/it]\u001b[A\n",
      " 75%|██████████████████████████████▋          | 293/391 [19:59<06:46,  4.15s/it]\u001b[A\n",
      " 75%|██████████████████████████████▊          | 294/391 [20:03<06:37,  4.10s/it]\u001b[A\n",
      " 75%|██████████████████████████████▉          | 295/391 [20:06<06:24,  4.01s/it]\u001b[A\n",
      " 76%|███████████████████████████████          | 296/391 [20:11<06:27,  4.08s/it]\u001b[A\n",
      " 76%|███████████████████████████████▏         | 297/391 [20:15<06:22,  4.07s/it]\u001b[A\n",
      " 76%|███████████████████████████████▏         | 298/391 [20:19<06:17,  4.06s/it]\u001b[A\n",
      " 76%|███████████████████████████████▎         | 299/391 [20:23<06:13,  4.06s/it]\u001b[A\n",
      " 77%|███████████████████████████████▍         | 300/391 [20:27<06:17,  4.15s/it]\u001b[A\n",
      " 77%|███████████████████████████████▌         | 301/391 [20:31<06:13,  4.15s/it]\u001b[A\n",
      " 77%|███████████████████████████████▋         | 302/391 [20:35<06:00,  4.05s/it]\u001b[A\n",
      " 77%|███████████████████████████████▊         | 303/391 [20:39<05:55,  4.04s/it]\u001b[A\n",
      " 78%|███████████████████████████████▉         | 304/391 [20:43<05:56,  4.10s/it]\u001b[A\n",
      " 78%|███████████████████████████████▉         | 305/391 [20:47<05:44,  4.01s/it]\u001b[A\n",
      " 78%|████████████████████████████████         | 306/391 [20:52<05:53,  4.16s/it]\u001b[A\n",
      " 79%|████████████████████████████████▏        | 307/391 [20:56<05:45,  4.12s/it]\u001b[A\n",
      " 79%|████████████████████████████████▎        | 308/391 [21:00<05:43,  4.14s/it]\u001b[A\n",
      " 79%|████████████████████████████████▍        | 309/391 [21:04<05:37,  4.12s/it]\u001b[A\n",
      " 79%|████████████████████████████████▌        | 310/391 [21:08<05:30,  4.08s/it]\u001b[A\n",
      " 80%|████████████████████████████████▌        | 311/391 [21:14<06:02,  4.53s/it]\u001b[A\n",
      " 80%|████████████████████████████████▋        | 312/391 [21:17<05:40,  4.31s/it]\u001b[A\n",
      " 80%|████████████████████████████████▊        | 313/391 [21:21<05:25,  4.17s/it]\u001b[A\n",
      " 80%|████████████████████████████████▉        | 314/391 [21:25<05:19,  4.15s/it]\u001b[A\n",
      " 81%|█████████████████████████████████        | 315/391 [21:29<05:10,  4.09s/it]\u001b[A\n",
      " 81%|█████████████████████████████████▏       | 316/391 [21:33<04:56,  3.95s/it]\u001b[A\n",
      " 81%|█████████████████████████████████▏       | 317/391 [21:37<04:47,  3.88s/it]\u001b[A\n",
      " 81%|█████████████████████████████████▎       | 318/391 [21:40<04:41,  3.85s/it]\u001b[A\n",
      " 82%|█████████████████████████████████▍       | 319/391 [21:44<04:27,  3.72s/it]\u001b[A\n",
      " 82%|█████████████████████████████████▌       | 320/391 [21:48<04:27,  3.77s/it]\u001b[A\n",
      " 82%|█████████████████████████████████▋       | 321/391 [21:51<04:22,  3.76s/it]\u001b[A\n",
      " 82%|█████████████████████████████████▊       | 322/391 [21:55<04:22,  3.81s/it]\u001b[A\n",
      " 83%|█████████████████████████████████▊       | 323/391 [22:00<04:27,  3.94s/it]\u001b[A\n",
      " 83%|█████████████████████████████████▉       | 324/391 [22:04<04:35,  4.11s/it]\u001b[A\n",
      " 83%|██████████████████████████████████       | 325/391 [22:09<04:41,  4.26s/it]\u001b[A\n",
      " 83%|██████████████████████████████████▏      | 326/391 [22:13<04:33,  4.21s/it]\u001b[A\n",
      " 84%|██████████████████████████████████▎      | 327/391 [22:17<04:23,  4.12s/it]\u001b[A\n",
      " 84%|██████████████████████████████████▍      | 328/391 [22:21<04:14,  4.04s/it]\u001b[A\n",
      " 84%|██████████████████████████████████▍      | 329/391 [22:24<03:59,  3.86s/it]\u001b[A\n",
      " 84%|██████████████████████████████████▌      | 330/391 [22:28<03:55,  3.86s/it]\u001b[A\n",
      " 85%|██████████████████████████████████▋      | 331/391 [22:32<03:50,  3.85s/it]\u001b[A\n",
      " 85%|██████████████████████████████████▊      | 332/391 [22:36<03:55,  4.00s/it]\u001b[A\n",
      " 85%|██████████████████████████████████▉      | 333/391 [22:40<03:51,  4.00s/it]\u001b[A\n",
      " 85%|███████████████████████████████████      | 334/391 [22:43<03:35,  3.78s/it]\u001b[A\n",
      " 86%|███████████████████████████████████▏     | 335/391 [22:47<03:29,  3.74s/it]\u001b[A\n",
      " 86%|███████████████████████████████████▏     | 336/391 [22:51<03:30,  3.82s/it]\u001b[A\n",
      " 86%|███████████████████████████████████▎     | 337/391 [22:55<03:31,  3.91s/it]\u001b[A\n",
      " 86%|███████████████████████████████████▍     | 338/391 [22:59<03:33,  4.02s/it]\u001b[A\n",
      " 87%|███████████████████████████████████▌     | 339/391 [23:03<03:22,  3.90s/it]\u001b[A\n",
      " 87%|███████████████████████████████████▋     | 340/391 [23:08<03:35,  4.23s/it]\u001b[A\n",
      " 87%|███████████████████████████████████▊     | 341/391 [23:12<03:29,  4.18s/it]\u001b[A\n",
      " 87%|███████████████████████████████████▊     | 342/391 [23:16<03:22,  4.14s/it]\u001b[A\n",
      " 88%|███████████████████████████████████▉     | 343/391 [23:20<03:11,  4.00s/it]\u001b[A\n",
      " 88%|████████████████████████████████████     | 344/391 [23:24<03:07,  3.98s/it]\u001b[A\n",
      " 88%|████████████████████████████████████▏    | 345/391 [23:28<03:12,  4.19s/it]\u001b[A\n",
      " 88%|████████████████████████████████████▎    | 346/391 [23:33<03:07,  4.18s/it]\u001b[A\n",
      " 89%|████████████████████████████████████▍    | 347/391 [23:36<02:54,  3.96s/it]\u001b[A\n",
      " 89%|████████████████████████████████████▍    | 348/391 [23:40<02:46,  3.88s/it]\u001b[A\n",
      " 89%|████████████████████████████████████▌    | 349/391 [23:44<02:45,  3.94s/it]\u001b[A\n",
      " 90%|████████████████████████████████████▋    | 350/391 [23:48<02:43,  3.99s/it]\u001b[A\n",
      " 90%|████████████████████████████████████▊    | 351/391 [23:53<02:47,  4.20s/it]\u001b[A\n",
      " 90%|████████████████████████████████████▉    | 352/391 [23:57<02:46,  4.27s/it]\u001b[A\n",
      " 90%|█████████████████████████████████████    | 353/391 [24:01<02:43,  4.29s/it]\u001b[A\n",
      " 91%|█████████████████████████████████████    | 354/391 [24:06<02:37,  4.26s/it]\u001b[A\n",
      " 91%|█████████████████████████████████████▏   | 355/391 [24:10<02:29,  4.16s/it]\u001b[A\n",
      " 91%|█████████████████████████████████████▎   | 356/391 [24:14<02:24,  4.12s/it]\u001b[A\n",
      " 91%|█████████████████████████████████████▍   | 357/391 [24:17<02:15,  4.00s/it]\u001b[A\n",
      " 92%|█████████████████████████████████████▌   | 358/391 [24:21<02:11,  3.99s/it]\u001b[A\n",
      " 92%|█████████████████████████████████████▋   | 359/391 [24:25<02:06,  3.95s/it]\u001b[A\n",
      " 92%|█████████████████████████████████████▋   | 360/391 [24:28<01:57,  3.78s/it]\u001b[A\n",
      " 92%|█████████████████████████████████████▊   | 361/391 [24:33<01:57,  3.91s/it]\u001b[A\n",
      " 93%|█████████████████████████████████████▉   | 362/391 [24:37<01:55,  3.99s/it]\u001b[A\n",
      " 93%|██████████████████████████████████████   | 363/391 [24:41<01:49,  3.93s/it]\u001b[A\n",
      " 93%|██████████████████████████████████████▏  | 364/391 [24:45<01:47,  3.97s/it]\u001b[A\n",
      " 93%|██████████████████████████████████████▎  | 365/391 [24:49<01:42,  3.93s/it]\u001b[A\n",
      " 94%|██████████████████████████████████████▍  | 366/391 [24:52<01:35,  3.83s/it]\u001b[A\n",
      " 94%|██████████████████████████████████████▍  | 367/391 [24:56<01:33,  3.88s/it]\u001b[A\n",
      " 94%|██████████████████████████████████████▌  | 368/391 [25:00<01:29,  3.88s/it]\u001b[A\n",
      " 94%|██████████████████████████████████████▋  | 369/391 [25:04<01:23,  3.80s/it]\u001b[A\n",
      " 95%|██████████████████████████████████████▊  | 370/391 [25:07<01:19,  3.80s/it]\u001b[A\n",
      " 95%|██████████████████████████████████████▉  | 371/391 [25:11<01:15,  3.77s/it]\u001b[A\n",
      " 95%|███████████████████████████████████████  | 372/391 [25:15<01:11,  3.78s/it]\u001b[A\n",
      " 95%|███████████████████████████████████████  | 373/391 [25:19<01:07,  3.75s/it]\u001b[A\n",
      " 96%|███████████████████████████████████████▏ | 374/391 [25:23<01:05,  3.84s/it]\u001b[A\n",
      " 96%|███████████████████████████████████████▎ | 375/391 [25:27<01:02,  3.94s/it]\u001b[A\n",
      " 96%|███████████████████████████████████████▍ | 376/391 [25:31<01:00,  4.02s/it]\u001b[A\n",
      " 96%|███████████████████████████████████████▌ | 377/391 [25:35<00:55,  4.00s/it]\u001b[A\n",
      " 97%|███████████████████████████████████████▋ | 378/391 [25:38<00:49,  3.80s/it]\u001b[A\n",
      " 97%|███████████████████████████████████████▋ | 379/391 [25:42<00:46,  3.86s/it]\u001b[A\n",
      " 97%|███████████████████████████████████████▊ | 380/391 [25:47<00:43,  3.99s/it]\u001b[A\n",
      " 97%|███████████████████████████████████████▉ | 381/391 [25:51<00:42,  4.22s/it]\u001b[A\n",
      " 98%|████████████████████████████████████████ | 382/391 [25:56<00:38,  4.28s/it]\u001b[A\n",
      " 98%|████████████████████████████████████████▏| 383/391 [26:00<00:33,  4.16s/it]\u001b[A\n",
      " 98%|████████████████████████████████████████▎| 384/391 [26:04<00:28,  4.08s/it]\u001b[A\n",
      " 98%|████████████████████████████████████████▎| 385/391 [26:08<00:24,  4.05s/it]\u001b[A\n",
      " 99%|████████████████████████████████████████▍| 386/391 [26:11<00:19,  3.98s/it]\u001b[A\n",
      " 99%|████████████████████████████████████████▌| 387/391 [26:15<00:15,  3.98s/it]\u001b[A\n"
     ]
    },
    {
     "name": "stdout",
     "output_type": "stream",
     "text": [
      " 99%|████████████████████████████████████████▋| 388/391 [26:19<00:11,  3.96s/it]\u001b[A\n",
      " 99%|████████████████████████████████████████▊| 389/391 [26:24<00:08,  4.07s/it]\u001b[A\n",
      "100%|████████████████████████████████████████▉| 390/391 [26:28<00:04,  4.11s/it]\u001b[A\n",
      "100%|█████████████████████████████████████████| 391/391 [26:30<00:00,  4.07s/it]\u001b[A\n",
      "\n",
      "  0%|                                                    | 0/40 [00:00<?, ?it/s]\u001b[A/home/hongky/.conda/envs/tf_tutorial/lib/python3.7/site-packages/torch/nn/_reduction.py:44: UserWarning: size_average and reduce args will be deprecated, please use reduction='sum' instead.\n",
      "  warnings.warn(warning.format(ret))\n",
      "\n",
      "  2%|█                                           | 1/40 [00:02<01:54,  2.95s/it]\u001b[A\n",
      "  5%|██▏                                         | 2/40 [00:05<01:47,  2.84s/it]\u001b[A\n",
      "  8%|███▎                                        | 3/40 [00:08<01:44,  2.84s/it]\u001b[A\n",
      " 10%|████▍                                       | 4/40 [00:10<01:36,  2.69s/it]\u001b[A\n",
      " 12%|█████▌                                      | 5/40 [00:13<01:34,  2.69s/it]\u001b[A\n",
      " 15%|██████▌                                     | 6/40 [00:16<01:33,  2.74s/it]\u001b[A\n",
      " 18%|███████▋                                    | 7/40 [00:18<01:27,  2.64s/it]\u001b[A\n",
      " 20%|████████▊                                   | 8/40 [00:21<01:25,  2.66s/it]\u001b[A\n",
      " 22%|█████████▉                                  | 9/40 [00:23<01:21,  2.63s/it]\u001b[A\n",
      " 25%|██████████▊                                | 10/40 [00:26<01:21,  2.71s/it]\u001b[A\n",
      " 28%|███████████▊                               | 11/40 [00:29<01:20,  2.76s/it]\u001b[A\n",
      " 30%|████████████▉                              | 12/40 [00:32<01:14,  2.65s/it]\u001b[A\n",
      " 32%|█████████████▉                             | 13/40 [00:34<01:12,  2.68s/it]\u001b[A\n",
      " 35%|███████████████                            | 14/40 [00:37<01:08,  2.65s/it]\u001b[A\n",
      " 38%|████████████████▏                          | 15/40 [00:40<01:05,  2.62s/it]\u001b[A\n",
      " 40%|█████████████████▏                         | 16/40 [00:42<01:02,  2.62s/it]\u001b[A\n",
      " 42%|██████████████████▎                        | 17/40 [00:45<00:59,  2.59s/it]\u001b[A\n",
      " 45%|███████████████████▎                       | 18/40 [00:48<00:59,  2.70s/it]\u001b[A\n",
      " 48%|████████████████████▍                      | 19/40 [00:50<00:56,  2.71s/it]\u001b[A\n",
      " 50%|█████████████████████▌                     | 20/40 [00:53<00:53,  2.67s/it]\u001b[A\n",
      " 52%|██████████████████████▌                    | 21/40 [00:56<00:50,  2.66s/it]\u001b[A\n",
      " 55%|███████████████████████▋                   | 22/40 [00:58<00:48,  2.70s/it]\u001b[A\n",
      " 57%|████████████████████████▋                  | 23/40 [01:01<00:44,  2.64s/it]\u001b[A\n",
      " 60%|█████████████████████████▊                 | 24/40 [01:04<00:42,  2.66s/it]\u001b[A\n",
      " 62%|██████████████████████████▉                | 25/40 [01:06<00:40,  2.67s/it]\u001b[A\n",
      " 65%|███████████████████████████▉               | 26/40 [01:09<00:38,  2.75s/it]\u001b[A\n",
      " 68%|█████████████████████████████              | 27/40 [01:12<00:35,  2.70s/it]\u001b[A\n",
      " 70%|██████████████████████████████             | 28/40 [01:14<00:31,  2.63s/it]\u001b[A\n",
      " 72%|███████████████████████████████▏           | 29/40 [01:17<00:29,  2.72s/it]\u001b[A\n",
      " 75%|████████████████████████████████▎          | 30/40 [01:20<00:27,  2.72s/it]\u001b[A\n",
      " 78%|█████████████████████████████████▎         | 31/40 [01:22<00:23,  2.62s/it]\u001b[A\n",
      " 80%|██████████████████████████████████▍        | 32/40 [01:25<00:21,  2.63s/it]\u001b[A\n",
      " 82%|███████████████████████████████████▍       | 33/40 [01:27<00:18,  2.59s/it]\u001b[A\n",
      " 85%|████████████████████████████████████▌      | 34/40 [01:30<00:15,  2.62s/it]\u001b[A\n",
      " 88%|█████████████████████████████████████▋     | 35/40 [01:32<00:12,  2.55s/it]\u001b[A\n",
      " 90%|██████████████████████████████████████▋    | 36/40 [01:35<00:10,  2.58s/it]\u001b[A\n",
      " 92%|███████████████████████████████████████▊   | 37/40 [01:38<00:07,  2.59s/it]\u001b[A\n",
      " 95%|████████████████████████████████████████▊  | 38/40 [01:40<00:05,  2.55s/it]\u001b[A\n",
      " 98%|█████████████████████████████████████████▉ | 39/40 [01:43<00:02,  2.55s/it]\u001b[A\n",
      "100%|███████████████████████████████████████████| 40/40 [01:43<00:00,  2.59s/it]\u001b[A\n",
      "\n",
      "Epoch: 0 Test set: Average loss: 1.8129, Accuracy: 3230/10000 (32.3%)\n",
      "\n",
      "/home/hongky/.conda/envs/tf_tutorial/lib/python3.7/site-packages/torch/optim/lr_scheduler.py:143: UserWarning: The epoch parameter in `scheduler.step()` was not necessary and is being deprecated where possible. Please use `scheduler.step()` to step the scheduler. During the deprecation, if epoch is different from None, the closed form is used instead of the new chainable form, where available. Please open an issue if you are unable to replicate your use case: https://github.com/pytorch/pytorch/issues/new/choose.\n",
      "  warnings.warn(EPOCH_DEPRECATION_WARNING, UserWarning)\n",
      "currnt lr:0.2\n",
      "\n",
      "  0%|                                                   | 0/391 [00:00<?, ?it/s]\u001b[A\n",
      "  0%|                                           | 1/391 [00:04<28:25,  4.37s/it]\u001b[A\n",
      "  1%|▏                                          | 2/391 [00:08<28:01,  4.32s/it]\u001b[A\n",
      "  1%|▎                                          | 3/391 [00:13<28:12,  4.36s/it]\u001b[A\n",
      "  1%|▍                                          | 4/391 [00:16<26:27,  4.10s/it]\u001b[A\n",
      "  1%|▌                                          | 5/391 [00:20<26:15,  4.08s/it]\u001b[A\n",
      "  2%|▋                                          | 6/391 [00:25<27:37,  4.31s/it]\u001b[A\n",
      "  2%|▊                                          | 7/391 [00:29<26:32,  4.15s/it]\u001b[A\n",
      "  2%|▉                                          | 8/391 [00:33<26:42,  4.18s/it]\u001b[A\n",
      "  2%|▉                                          | 9/391 [00:37<26:41,  4.19s/it]\u001b[A\n",
      "  3%|█                                         | 10/391 [00:41<25:51,  4.07s/it]\u001b[A\n",
      "  3%|█▏                                        | 11/391 [00:45<26:09,  4.13s/it]\u001b[A\n",
      "  3%|█▎                                        | 12/391 [00:50<26:47,  4.24s/it]\u001b[A\n",
      "  3%|█▍                                        | 13/391 [00:54<26:48,  4.26s/it]\u001b[A\n",
      "  4%|█▌                                        | 14/391 [00:58<26:26,  4.21s/it]\u001b[A\n",
      "  4%|█▌                                        | 15/391 [01:02<26:11,  4.18s/it]\u001b[A\n",
      "  4%|█▋                                        | 16/391 [01:06<25:27,  4.07s/it]\u001b[A\n",
      "  4%|█▊                                        | 17/391 [01:10<25:18,  4.06s/it]\u001b[A\n",
      "  5%|█▉                                        | 18/391 [01:14<25:02,  4.03s/it]\u001b[A\n",
      "  5%|██                                        | 19/391 [01:18<25:00,  4.03s/it]\u001b[A\n",
      "  5%|██▏                                       | 20/391 [01:22<25:34,  4.14s/it]\u001b[A\n",
      "  5%|██▎                                       | 21/391 [01:26<24:45,  4.01s/it]\u001b[A\n",
      "  6%|██▎                                       | 22/391 [01:30<24:52,  4.04s/it]\u001b[A\n",
      "  6%|██▍                                       | 23/391 [01:34<24:42,  4.03s/it]\u001b[A\n",
      "  6%|██▌                                       | 24/391 [01:38<24:39,  4.03s/it]\u001b[A\n",
      "  6%|██▋                                       | 25/391 [01:43<25:44,  4.22s/it]\u001b[A\n",
      "  7%|██▊                                       | 26/391 [01:47<25:44,  4.23s/it]\u001b[A\n",
      "  7%|██▉                                       | 27/391 [01:51<25:38,  4.23s/it]\u001b[A\n",
      "  7%|███                                       | 28/391 [01:55<25:15,  4.17s/it]\u001b[A\n",
      "  7%|███                                       | 29/391 [02:00<25:04,  4.16s/it]\u001b[A\n",
      "  8%|███▏                                      | 30/391 [02:04<25:45,  4.28s/it]\u001b[A\n",
      "  8%|███▎                                      | 31/391 [02:09<25:51,  4.31s/it]\u001b[A\n",
      "  8%|███▍                                      | 32/391 [02:13<25:44,  4.30s/it]\u001b[A\n",
      "  8%|███▌                                      | 33/391 [02:17<26:00,  4.36s/it]\u001b[A\n",
      "  9%|███▋                                      | 34/391 [02:23<27:33,  4.63s/it]\u001b[A^C\n"
     ]
    }
   ],
   "source": [
    "!python main.py --arch MobileNetV2"
   ]
  },
  {
   "cell_type": "code",
   "execution_count": 1,
   "metadata": {},
   "outputs": [],
   "source": [
    "from __future__ import print_function\n",
    "import argparse\n",
    "import numpy as np\n",
    "import os\n",
    "import shutil\n",
    "import torch\n",
    "import torch.nn as nn\n",
    "import torch.nn.functional as F\n",
    "import torch.optim as optim\n",
    "from torchvision import datasets, transforms\n",
    "from models import *\n",
    "from tqdm import tqdm\n",
    "from models.slimmableops import bn_calibration_init\n",
    "import USconfig as FLAGS\n",
    "import random"
   ]
  },
  {
   "cell_type": "code",
   "execution_count": 2,
   "metadata": {},
   "outputs": [
    {
     "data": {
      "text/plain": [
       "True"
      ]
     },
     "execution_count": 2,
     "metadata": {},
     "output_type": "execute_result"
    }
   ],
   "source": [
    "torch.cuda.is_available()"
   ]
  },
  {
   "cell_type": "code",
   "execution_count": 7,
   "metadata": {},
   "outputs": [],
   "source": [
    "from dotmap import DotMap\n",
    "\n",
    "args = DotMap()\n",
    "\n",
    "args.dataset = 'cifar10'\n",
    "args.batch_size=128\n",
    "args.test_batch_size=256\n",
    "args.epochs = 160\n",
    "args.start_epoch=0\n",
    "args.lr = 0.2\n",
    "args.momentum=0.9\n",
    "args.weight_decay=1e-4\n",
    "args.resume=''\n",
    "args.no_cuda=False\n",
    "args.seed=1\n",
    "args.save='checkpoints'\n",
    "args.arch='MobileNetV2'\n",
    "args.sr=True\n",
    "args.s=0.0001\n",
    "args.test=True\n",
    "\n",
    "\n",
    "args.cuda = not args.no_cuda and torch.cuda.is_available()"
   ]
  },
  {
   "cell_type": "code",
   "execution_count": 8,
   "metadata": {},
   "outputs": [
    {
     "name": "stdout",
     "output_type": "stream",
     "text": [
      "Files already downloaded and verified\n"
     ]
    }
   ],
   "source": [
    "\n",
    "torch.manual_seed(args.seed)\n",
    "if args.cuda:\n",
    "    torch.cuda.manual_seed(args.seed)\n",
    "\n",
    "\n",
    "savepath = os.path.join(args.save, args.arch, 'sr' if args.sr else 'nosr')\n",
    "if not os.path.exists(savepath):\n",
    "    os.makedirs(savepath)\n",
    "kwargs = {'num_workers': 4, 'pin_memory': True} if args.cuda else {}\n",
    "if args.dataset == 'cifar10':\n",
    "    train_loader = torch.utils.data.DataLoader(\n",
    "        datasets.CIFAR10('data.cifar10', train=True, download=True,\n",
    "                         transform=transforms.Compose([\n",
    "                             transforms.RandomCrop(32, padding=4),\n",
    "                             transforms.RandomHorizontalFlip(),\n",
    "                             transforms.ToTensor(),\n",
    "                             transforms.Normalize((0.4914, 0.4822, 0.4465), (0.2023, 0.1994, 0.2010))\n",
    "                         ])),\n",
    "        batch_size=args.batch_size, shuffle=True, **kwargs)\n",
    "    test_loader = torch.utils.data.DataLoader(\n",
    "        datasets.CIFAR10('data.cifar10', train=False, transform=transforms.Compose([\n",
    "            transforms.ToTensor(),\n",
    "            transforms.Normalize((0.4914, 0.4822, 0.4465), (0.2023, 0.1994, 0.2010))\n",
    "        ])),\n",
    "        batch_size=args.test_batch_size, shuffle=True, **kwargs)\n",
    "else:\n",
    "    train_loader = torch.utils.data.DataLoader(\n",
    "        datasets.CIFAR100('./data.cifar100', train=True, download=True,\n",
    "                          transform=transforms.Compose([\n",
    "                              transforms.Pad(4),\n",
    "                              transforms.RandomCrop(32),\n",
    "                              transforms.RandomHorizontalFlip(),\n",
    "                              transforms.ToTensor(),\n",
    "                              transforms.Normalize((0.4914, 0.4822, 0.4465), (0.2023, 0.1994, 0.2010))\n",
    "                          ])),\n",
    "        batch_size=args.batch_size, shuffle=True, **kwargs)\n",
    "    test_loader = torch.utils.data.DataLoader(\n",
    "        datasets.CIFAR100('./data.cifar100', train=False, transform=transforms.Compose([\n",
    "            transforms.ToTensor(),\n",
    "            transforms.Normalize((0.4914, 0.4822, 0.4465), (0.2023, 0.1994, 0.2010))\n",
    "        ])),\n",
    "        batch_size=args.test_batch_size, shuffle=True, **kwargs)"
   ]
  },
  {
   "cell_type": "code",
   "execution_count": 9,
   "metadata": {},
   "outputs": [
    {
     "name": "stdout",
     "output_type": "stream",
     "text": [
      "Done eval model: MobileNetV2(\n",
      "  (features): Sequential(\n",
      "    (0): conv_bn_relu(\n",
      "      (convbn): Sequential(\n",
      "        (conv): Conv2d(3, 32, kernel_size=(3, 3), stride=(1, 1), padding=(1, 1), bias=False)\n",
      "        (bn): BatchNorm2d(32, eps=1e-05, momentum=0.1, affine=True, track_running_stats=True)\n",
      "        (relu): ReLU6(inplace=True)\n",
      "      )\n",
      "    )\n",
      "    (1): InvertedResidual(\n",
      "      (conv): Sequential(\n",
      "        (dw_conv): Conv2d(32, 32, kernel_size=(3, 3), stride=(1, 1), padding=(1, 1), groups=32, bias=False)\n",
      "        (dw_bn): BatchNorm2d(32, eps=1e-05, momentum=0.1, affine=True, track_running_stats=True)\n",
      "        (dw_relu): ReLU6(inplace=True)\n",
      "        (project_conv): Conv2d(32, 16, kernel_size=(1, 1), stride=(1, 1), bias=False)\n",
      "        (project_bn): BatchNorm2d(16, eps=1e-05, momentum=0.1, affine=True, track_running_stats=True)\n",
      "      )\n",
      "    )\n",
      "    (2): InvertedResidual(\n",
      "      (conv): Sequential(\n",
      "        (expand_conv): Conv2d(16, 96, kernel_size=(1, 1), stride=(1, 1), bias=False)\n",
      "        (expand_bn): BatchNorm2d(96, eps=1e-05, momentum=0.1, affine=True, track_running_stats=True)\n",
      "        (expand_relu): ReLU6(inplace=True)\n",
      "        (dw_conv): Conv2d(96, 96, kernel_size=(3, 3), stride=(1, 1), padding=(1, 1), groups=96, bias=False)\n",
      "        (dw_bn): BatchNorm2d(96, eps=1e-05, momentum=0.1, affine=True, track_running_stats=True)\n",
      "        (dw_relu): ReLU6(inplace=True)\n",
      "        (project_conv): Conv2d(96, 24, kernel_size=(1, 1), stride=(1, 1), bias=False)\n",
      "        (project_bn): BatchNorm2d(24, eps=1e-05, momentum=0.1, affine=True, track_running_stats=True)\n",
      "      )\n",
      "    )\n",
      "    (3): InvertedResidual(\n",
      "      (conv): Sequential(\n",
      "        (expand_conv): Conv2d(24, 144, kernel_size=(1, 1), stride=(1, 1), bias=False)\n",
      "        (expand_bn): BatchNorm2d(144, eps=1e-05, momentum=0.1, affine=True, track_running_stats=True)\n",
      "        (expand_relu): ReLU6(inplace=True)\n",
      "        (dw_conv): Conv2d(144, 144, kernel_size=(3, 3), stride=(1, 1), padding=(1, 1), groups=144, bias=False)\n",
      "        (dw_bn): BatchNorm2d(144, eps=1e-05, momentum=0.1, affine=True, track_running_stats=True)\n",
      "        (dw_relu): ReLU6(inplace=True)\n",
      "        (project_conv): Conv2d(144, 24, kernel_size=(1, 1), stride=(1, 1), bias=False)\n",
      "        (project_bn): BatchNorm2d(24, eps=1e-05, momentum=0.1, affine=True, track_running_stats=True)\n",
      "      )\n",
      "    )\n",
      "    (4): InvertedResidual(\n",
      "      (conv): Sequential(\n",
      "        (expand_conv): Conv2d(24, 144, kernel_size=(1, 1), stride=(1, 1), bias=False)\n",
      "        (expand_bn): BatchNorm2d(144, eps=1e-05, momentum=0.1, affine=True, track_running_stats=True)\n",
      "        (expand_relu): ReLU6(inplace=True)\n",
      "        (dw_conv): Conv2d(144, 144, kernel_size=(3, 3), stride=(1, 1), padding=(1, 1), groups=144, bias=False)\n",
      "        (dw_bn): BatchNorm2d(144, eps=1e-05, momentum=0.1, affine=True, track_running_stats=True)\n",
      "        (dw_relu): ReLU6(inplace=True)\n",
      "        (project_conv): Conv2d(144, 32, kernel_size=(1, 1), stride=(1, 1), bias=False)\n",
      "        (project_bn): BatchNorm2d(32, eps=1e-05, momentum=0.1, affine=True, track_running_stats=True)\n",
      "      )\n",
      "    )\n",
      "    (5): InvertedResidual(\n",
      "      (conv): Sequential(\n",
      "        (expand_conv): Conv2d(32, 192, kernel_size=(1, 1), stride=(1, 1), bias=False)\n",
      "        (expand_bn): BatchNorm2d(192, eps=1e-05, momentum=0.1, affine=True, track_running_stats=True)\n",
      "        (expand_relu): ReLU6(inplace=True)\n",
      "        (dw_conv): Conv2d(192, 192, kernel_size=(3, 3), stride=(1, 1), padding=(1, 1), groups=192, bias=False)\n",
      "        (dw_bn): BatchNorm2d(192, eps=1e-05, momentum=0.1, affine=True, track_running_stats=True)\n",
      "        (dw_relu): ReLU6(inplace=True)\n",
      "        (project_conv): Conv2d(192, 32, kernel_size=(1, 1), stride=(1, 1), bias=False)\n",
      "        (project_bn): BatchNorm2d(32, eps=1e-05, momentum=0.1, affine=True, track_running_stats=True)\n",
      "      )\n",
      "    )\n",
      "    (6): InvertedResidual(\n",
      "      (conv): Sequential(\n",
      "        (expand_conv): Conv2d(32, 192, kernel_size=(1, 1), stride=(1, 1), bias=False)\n",
      "        (expand_bn): BatchNorm2d(192, eps=1e-05, momentum=0.1, affine=True, track_running_stats=True)\n",
      "        (expand_relu): ReLU6(inplace=True)\n",
      "        (dw_conv): Conv2d(192, 192, kernel_size=(3, 3), stride=(1, 1), padding=(1, 1), groups=192, bias=False)\n",
      "        (dw_bn): BatchNorm2d(192, eps=1e-05, momentum=0.1, affine=True, track_running_stats=True)\n",
      "        (dw_relu): ReLU6(inplace=True)\n",
      "        (project_conv): Conv2d(192, 32, kernel_size=(1, 1), stride=(1, 1), bias=False)\n",
      "        (project_bn): BatchNorm2d(32, eps=1e-05, momentum=0.1, affine=True, track_running_stats=True)\n",
      "      )\n",
      "    )\n",
      "    (7): InvertedResidual(\n",
      "      (conv): Sequential(\n",
      "        (expand_conv): Conv2d(32, 192, kernel_size=(1, 1), stride=(1, 1), bias=False)\n",
      "        (expand_bn): BatchNorm2d(192, eps=1e-05, momentum=0.1, affine=True, track_running_stats=True)\n",
      "        (expand_relu): ReLU6(inplace=True)\n",
      "        (dw_conv): Conv2d(192, 192, kernel_size=(3, 3), stride=(2, 2), padding=(1, 1), groups=192, bias=False)\n",
      "        (dw_bn): BatchNorm2d(192, eps=1e-05, momentum=0.1, affine=True, track_running_stats=True)\n",
      "        (dw_relu): ReLU6(inplace=True)\n",
      "        (project_conv): Conv2d(192, 64, kernel_size=(1, 1), stride=(1, 1), bias=False)\n",
      "        (project_bn): BatchNorm2d(64, eps=1e-05, momentum=0.1, affine=True, track_running_stats=True)\n",
      "      )\n",
      "    )\n",
      "    (8): InvertedResidual(\n",
      "      (conv): Sequential(\n",
      "        (expand_conv): Conv2d(64, 384, kernel_size=(1, 1), stride=(1, 1), bias=False)\n",
      "        (expand_bn): BatchNorm2d(384, eps=1e-05, momentum=0.1, affine=True, track_running_stats=True)\n",
      "        (expand_relu): ReLU6(inplace=True)\n",
      "        (dw_conv): Conv2d(384, 384, kernel_size=(3, 3), stride=(1, 1), padding=(1, 1), groups=384, bias=False)\n",
      "        (dw_bn): BatchNorm2d(384, eps=1e-05, momentum=0.1, affine=True, track_running_stats=True)\n",
      "        (dw_relu): ReLU6(inplace=True)\n",
      "        (project_conv): Conv2d(384, 64, kernel_size=(1, 1), stride=(1, 1), bias=False)\n",
      "        (project_bn): BatchNorm2d(64, eps=1e-05, momentum=0.1, affine=True, track_running_stats=True)\n",
      "      )\n",
      "    )\n",
      "    (9): InvertedResidual(\n",
      "      (conv): Sequential(\n",
      "        (expand_conv): Conv2d(64, 384, kernel_size=(1, 1), stride=(1, 1), bias=False)\n",
      "        (expand_bn): BatchNorm2d(384, eps=1e-05, momentum=0.1, affine=True, track_running_stats=True)\n",
      "        (expand_relu): ReLU6(inplace=True)\n",
      "        (dw_conv): Conv2d(384, 384, kernel_size=(3, 3), stride=(1, 1), padding=(1, 1), groups=384, bias=False)\n",
      "        (dw_bn): BatchNorm2d(384, eps=1e-05, momentum=0.1, affine=True, track_running_stats=True)\n",
      "        (dw_relu): ReLU6(inplace=True)\n",
      "        (project_conv): Conv2d(384, 64, kernel_size=(1, 1), stride=(1, 1), bias=False)\n",
      "        (project_bn): BatchNorm2d(64, eps=1e-05, momentum=0.1, affine=True, track_running_stats=True)\n",
      "      )\n",
      "    )\n",
      "    (10): InvertedResidual(\n",
      "      (conv): Sequential(\n",
      "        (expand_conv): Conv2d(64, 384, kernel_size=(1, 1), stride=(1, 1), bias=False)\n",
      "        (expand_bn): BatchNorm2d(384, eps=1e-05, momentum=0.1, affine=True, track_running_stats=True)\n",
      "        (expand_relu): ReLU6(inplace=True)\n",
      "        (dw_conv): Conv2d(384, 384, kernel_size=(3, 3), stride=(1, 1), padding=(1, 1), groups=384, bias=False)\n",
      "        (dw_bn): BatchNorm2d(384, eps=1e-05, momentum=0.1, affine=True, track_running_stats=True)\n",
      "        (dw_relu): ReLU6(inplace=True)\n",
      "        (project_conv): Conv2d(384, 64, kernel_size=(1, 1), stride=(1, 1), bias=False)\n",
      "        (project_bn): BatchNorm2d(64, eps=1e-05, momentum=0.1, affine=True, track_running_stats=True)\n",
      "      )\n",
      "    )\n",
      "    (11): InvertedResidual(\n",
      "      (conv): Sequential(\n",
      "        (expand_conv): Conv2d(64, 384, kernel_size=(1, 1), stride=(1, 1), bias=False)\n",
      "        (expand_bn): BatchNorm2d(384, eps=1e-05, momentum=0.1, affine=True, track_running_stats=True)\n",
      "        (expand_relu): ReLU6(inplace=True)\n",
      "        (dw_conv): Conv2d(384, 384, kernel_size=(3, 3), stride=(1, 1), padding=(1, 1), groups=384, bias=False)\n",
      "        (dw_bn): BatchNorm2d(384, eps=1e-05, momentum=0.1, affine=True, track_running_stats=True)\n",
      "        (dw_relu): ReLU6(inplace=True)\n",
      "        (project_conv): Conv2d(384, 96, kernel_size=(1, 1), stride=(1, 1), bias=False)\n",
      "        (project_bn): BatchNorm2d(96, eps=1e-05, momentum=0.1, affine=True, track_running_stats=True)\n",
      "      )\n",
      "    )\n",
      "    (12): InvertedResidual(\n",
      "      (conv): Sequential(\n",
      "        (expand_conv): Conv2d(96, 576, kernel_size=(1, 1), stride=(1, 1), bias=False)\n",
      "        (expand_bn): BatchNorm2d(576, eps=1e-05, momentum=0.1, affine=True, track_running_stats=True)\n",
      "        (expand_relu): ReLU6(inplace=True)\n",
      "        (dw_conv): Conv2d(576, 576, kernel_size=(3, 3), stride=(1, 1), padding=(1, 1), groups=576, bias=False)\n",
      "        (dw_bn): BatchNorm2d(576, eps=1e-05, momentum=0.1, affine=True, track_running_stats=True)\n",
      "        (dw_relu): ReLU6(inplace=True)\n",
      "        (project_conv): Conv2d(576, 96, kernel_size=(1, 1), stride=(1, 1), bias=False)\n",
      "        (project_bn): BatchNorm2d(96, eps=1e-05, momentum=0.1, affine=True, track_running_stats=True)\n",
      "      )\n",
      "    )\n",
      "    (13): InvertedResidual(\n",
      "      (conv): Sequential(\n",
      "        (expand_conv): Conv2d(96, 576, kernel_size=(1, 1), stride=(1, 1), bias=False)\n",
      "        (expand_bn): BatchNorm2d(576, eps=1e-05, momentum=0.1, affine=True, track_running_stats=True)\n",
      "        (expand_relu): ReLU6(inplace=True)\n",
      "        (dw_conv): Conv2d(576, 576, kernel_size=(3, 3), stride=(1, 1), padding=(1, 1), groups=576, bias=False)\n",
      "        (dw_bn): BatchNorm2d(576, eps=1e-05, momentum=0.1, affine=True, track_running_stats=True)\n",
      "        (dw_relu): ReLU6(inplace=True)\n",
      "        (project_conv): Conv2d(576, 96, kernel_size=(1, 1), stride=(1, 1), bias=False)\n",
      "        (project_bn): BatchNorm2d(96, eps=1e-05, momentum=0.1, affine=True, track_running_stats=True)\n",
      "      )\n",
      "    )\n",
      "    (14): InvertedResidual(\n",
      "      (conv): Sequential(\n",
      "        (expand_conv): Conv2d(96, 576, kernel_size=(1, 1), stride=(1, 1), bias=False)\n",
      "        (expand_bn): BatchNorm2d(576, eps=1e-05, momentum=0.1, affine=True, track_running_stats=True)\n",
      "        (expand_relu): ReLU6(inplace=True)\n",
      "        (dw_conv): Conv2d(576, 576, kernel_size=(3, 3), stride=(2, 2), padding=(1, 1), groups=576, bias=False)\n",
      "        (dw_bn): BatchNorm2d(576, eps=1e-05, momentum=0.1, affine=True, track_running_stats=True)\n",
      "        (dw_relu): ReLU6(inplace=True)\n",
      "        (project_conv): Conv2d(576, 160, kernel_size=(1, 1), stride=(1, 1), bias=False)\n",
      "        (project_bn): BatchNorm2d(160, eps=1e-05, momentum=0.1, affine=True, track_running_stats=True)\n",
      "      )\n",
      "    )\n",
      "    (15): InvertedResidual(\n",
      "      (conv): Sequential(\n",
      "        (expand_conv): Conv2d(160, 960, kernel_size=(1, 1), stride=(1, 1), bias=False)\n",
      "        (expand_bn): BatchNorm2d(960, eps=1e-05, momentum=0.1, affine=True, track_running_stats=True)\n",
      "        (expand_relu): ReLU6(inplace=True)\n",
      "        (dw_conv): Conv2d(960, 960, kernel_size=(3, 3), stride=(1, 1), padding=(1, 1), groups=960, bias=False)\n",
      "        (dw_bn): BatchNorm2d(960, eps=1e-05, momentum=0.1, affine=True, track_running_stats=True)\n",
      "        (dw_relu): ReLU6(inplace=True)\n",
      "        (project_conv): Conv2d(960, 160, kernel_size=(1, 1), stride=(1, 1), bias=False)\n",
      "        (project_bn): BatchNorm2d(160, eps=1e-05, momentum=0.1, affine=True, track_running_stats=True)\n",
      "      )\n",
      "    )\n",
      "    (16): InvertedResidual(\n",
      "      (conv): Sequential(\n",
      "        (expand_conv): Conv2d(160, 960, kernel_size=(1, 1), stride=(1, 1), bias=False)\n",
      "        (expand_bn): BatchNorm2d(960, eps=1e-05, momentum=0.1, affine=True, track_running_stats=True)\n",
      "        (expand_relu): ReLU6(inplace=True)\n",
      "        (dw_conv): Conv2d(960, 960, kernel_size=(3, 3), stride=(1, 1), padding=(1, 1), groups=960, bias=False)\n",
      "        (dw_bn): BatchNorm2d(960, eps=1e-05, momentum=0.1, affine=True, track_running_stats=True)\n",
      "        (dw_relu): ReLU6(inplace=True)\n",
      "        (project_conv): Conv2d(960, 160, kernel_size=(1, 1), stride=(1, 1), bias=False)\n",
      "        (project_bn): BatchNorm2d(160, eps=1e-05, momentum=0.1, affine=True, track_running_stats=True)\n",
      "      )\n",
      "    )\n",
      "    (17): InvertedResidual(\n",
      "      (conv): Sequential(\n",
      "        (expand_conv): Conv2d(160, 960, kernel_size=(1, 1), stride=(1, 1), bias=False)\n",
      "        (expand_bn): BatchNorm2d(960, eps=1e-05, momentum=0.1, affine=True, track_running_stats=True)\n",
      "        (expand_relu): ReLU6(inplace=True)\n",
      "        (dw_conv): Conv2d(960, 960, kernel_size=(3, 3), stride=(1, 1), padding=(1, 1), groups=960, bias=False)\n",
      "        (dw_bn): BatchNorm2d(960, eps=1e-05, momentum=0.1, affine=True, track_running_stats=True)\n",
      "        (dw_relu): ReLU6(inplace=True)\n",
      "        (project_conv): Conv2d(960, 320, kernel_size=(1, 1), stride=(1, 1), bias=False)\n",
      "        (project_bn): BatchNorm2d(320, eps=1e-05, momentum=0.1, affine=True, track_running_stats=True)\n",
      "      )\n",
      "    )\n",
      "    (18): conv_bn_relu(\n",
      "      (convbn): Sequential(\n",
      "        (conv): Conv2d(320, 1280, kernel_size=(1, 1), stride=(1, 1), bias=False)\n",
      "        (bn): BatchNorm2d(1280, eps=1e-05, momentum=0.1, affine=True, track_running_stats=True)\n",
      "        (relu): ReLU6(inplace=True)\n",
      "      )\n",
      "    )\n",
      "  )\n",
      "  (classifier): Sequential(\n",
      "    (0): Dropout(p=0.2, inplace=False)\n",
      "    (1): Linear(in_features=1280, out_features=10, bias=True)\n",
      "  )\n",
      ")\n"
     ]
    }
   ],
   "source": [
    "model = eval(args.arch)(input_size=32)\n",
    "print('Done eval model:', model)\n",
    "if args.cuda:\n",
    "    model.cuda()\n",
    "best_prec1 = -1\n",
    "optimizer = optim.SGD(model.parameters(), lr=args.lr, momentum=args.momentum, weight_decay=args.weight_decay)\n",
    "if args.resume:\n",
    "    if os.path.isfile(args.resume):\n",
    "        print(\"=> loading checkpoint '{}'\".format(args.resume))\n",
    "        checkpoint = torch.load(args.resume)\n",
    "        args.start_epoch = checkpoint['epoch']\n",
    "        best_prec1 = checkpoint['best_prec1']\n",
    "        model.load_state_dict(checkpoint['state_dict'])\n",
    "        optimizer.load_state_dict(checkpoint['optimizer'])\n",
    "        print(\"=> loaded checkpoint '{}' (epoch {}) Prec1: {:f}\"\n",
    "              .format(args.resume, checkpoint['epoch'], best_prec1))\n",
    "    else:\n",
    "        print(\"=> no checkpoint found at '{}'\".format(args.resume))"
   ]
  },
  {
   "cell_type": "code",
   "execution_count": 10,
   "metadata": {},
   "outputs": [],
   "source": [
    "\n",
    "def updateBN():\n",
    "    for m in model.modules():\n",
    "        if isinstance(m, nn.BatchNorm2d):\n",
    "            m.weight.grad.data.add_(args.s * torch.sign(m.weight.data))  # L1\n",
    "\n",
    "\n",
    "def train():\n",
    "    model.train()\n",
    "    avg_loss = 0.\n",
    "    train_acc = 0.\n",
    "    for batch_idx, (data, target) in tqdm(enumerate(train_loader), total=len(train_loader)):\n",
    "        if args.cuda:\n",
    "            data, target = data.cuda(), target.cuda()\n",
    "        optimizer.zero_grad()\n",
    "        output = model(data)\n",
    "        loss = F.cross_entropy(output, target)\n",
    "        avg_loss += loss.item()\n",
    "        pred = output.data.max(1, keepdim=True)[1]\n",
    "        train_acc += pred.eq(target.data.view_as(pred)).cpu().sum()\n",
    "        loss.backward()\n",
    "        if args.sr:\n",
    "            updateBN()\n",
    "        optimizer.step()\n",
    "def trainUS():\n",
    "    max_width = max(FLAGS.width_mult_list)\n",
    "    min_width = min(FLAGS.width_mult_list)\n",
    "\n",
    "    model.train()\n",
    "    for batch_idx, (data, target) in tqdm(enumerate(train_loader),total=len(train_loader)):\n",
    "        if args.cuda:\n",
    "            data, target = data.cuda(), target.cuda()\n",
    "        optimizer.zero_grad()\n",
    "        ###\n",
    "        widths_train = []\n",
    "        for _ in range(getattr(FLAGS, 'num_sample_training', 2) - 2):\n",
    "            widths_train.append(\n",
    "                random.uniform(min_width, max_width))\n",
    "        widths_train = [max_width, min_width] + widths_train\n",
    "        # widths_train = [min_width]\n",
    "        for width_mult in widths_train:\n",
    "            # TODO :add inplace distillation\n",
    "            model.apply(lambda m: setattr(\n",
    "                m, 'width_mult',\n",
    "                width_mult))\n",
    "                # always track largest model and smallest model\n",
    "            output = model(data)\n",
    "            loss = F.cross_entropy(output, target)\n",
    "            loss.backward()\n",
    "        ###\n",
    "        optimizer.step()\n",
    "\n",
    "def test(epoch,test_width=1.0,recal=False):\n",
    "    model.eval()\n",
    "    test_loss = 0\n",
    "    correct = 0\n",
    "    model.apply(lambda m: setattr(m, 'width_mult',test_width))\n",
    "    if recal:\n",
    "        model.apply(bn_calibration_init)\n",
    "        model.train()\n",
    "        for idx,(data, target) in enumerate(tqdm(train_loader, total=len(train_loader))):\n",
    "            if idx==FLAGS.recal_batch:\n",
    "                break\n",
    "            if args.cuda:\n",
    "                data, target = data.cuda(), target.cuda()\n",
    "            with torch.no_grad():\n",
    "                output = model(data)\n",
    "            del output\n",
    "            \n",
    "    model.eval()\n",
    "    for data, target in tqdm(test_loader, total=len(test_loader)):\n",
    "        if args.cuda:\n",
    "            data, target = data.cuda(), target.cuda()\n",
    "        with torch.no_grad():\n",
    "            output = model(data)\n",
    "        test_loss += F.cross_entropy(output, target, size_average=False).item()  # sum up batch loss\n",
    "        pred = output.data.max(1, keepdim=True)[1]  # get the index of the max log-probability\n",
    "        correct += pred.eq(target.data.view_as(pred)).cpu().sum()\n",
    "\n",
    "    test_loss /= len(test_loader.dataset)\n",
    "    print('\\nEpoch: {} Test set: Average loss: {:.4f}, Accuracy: {}/{} ({:.1f}%)\\n'.format(epoch,\n",
    "        test_loss, correct, len(test_loader.dataset),\n",
    "        100. * correct / len(test_loader.dataset)))\n",
    "    return correct.item() / float(len(test_loader.dataset))\n",
    "\n",
    "def export2normal():\n",
    "    newmodel=MobileNetV2()\n",
    "    from collections import OrderedDict\n",
    "    statedic=[]\n",
    "    for k2,v in model.state_dict().items():\n",
    "        if 'running' in k2 or 'num_batches_tracked' in k2:\n",
    "            continue\n",
    "        statedic.append(v)\n",
    "    names=[]\n",
    "    for k1,v1 in newmodel.state_dict().items():\n",
    "        if 'running' in k1 or 'num_batches_tracked' in k1:\n",
    "            continue\n",
    "        names.append(k1)\n",
    "    newdic=OrderedDict(zip(names,statedic))\n",
    "    newmodel.load_state_dict(newdic,strict=False)\n",
    "    torch.save(newmodel.state_dict(),os.path.join(savepath,'trans.pth'))\n",
    "    print(\"save transferred ckpt at {}\".format(os.path.join(savepath,'trans.pth')))"
   ]
  },
  {
   "cell_type": "code",
   "execution_count": 11,
   "metadata": {},
   "outputs": [
    {
     "name": "stderr",
     "output_type": "stream",
     "text": [
      "100%|██████████| 391/391 [01:58<00:00,  3.30it/s]\n",
      "  0%|          | 0/40 [00:00<?, ?it/s]/home/hongky/.conda/envs/tf_tutorial/lib/python3.7/site-packages/torch/nn/_reduction.py:44: UserWarning: size_average and reduce args will be deprecated, please use reduction='sum' instead.\n",
      "  warnings.warn(warning.format(ret))\n",
      "100%|██████████| 40/40 [00:07<00:00,  5.67it/s]\n",
      "/home/hongky/.conda/envs/tf_tutorial/lib/python3.7/site-packages/torch/optim/lr_scheduler.py:143: UserWarning: The epoch parameter in `scheduler.step()` was not necessary and is being deprecated where possible. Please use `scheduler.step()` to step the scheduler. During the deprecation, if epoch is different from None, the closed form is used instead of the new chainable form, where available. Please open an issue if you are unable to replicate your use case: https://github.com/pytorch/pytorch/issues/new/choose.\n",
      "  warnings.warn(EPOCH_DEPRECATION_WARNING, UserWarning)\n"
     ]
    },
    {
     "name": "stdout",
     "output_type": "stream",
     "text": [
      "\n",
      "Epoch: 0 Test set: Average loss: 1.7876, Accuracy: 3249/10000 (32.5%)\n",
      "\n",
      "currnt lr:0.2\n"
     ]
    },
    {
     "name": "stderr",
     "output_type": "stream",
     "text": [
      "100%|██████████| 391/391 [02:00<00:00,  3.23it/s]\n",
      "100%|██████████| 40/40 [00:06<00:00,  5.73it/s]\n"
     ]
    },
    {
     "name": "stdout",
     "output_type": "stream",
     "text": [
      "\n",
      "Epoch: 1 Test set: Average loss: 1.6081, Accuracy: 4325/10000 (43.2%)\n",
      "\n",
      "currnt lr:0.1999807240482065\n"
     ]
    },
    {
     "name": "stderr",
     "output_type": "stream",
     "text": [
      "100%|██████████| 391/391 [02:01<00:00,  3.22it/s]\n",
      "100%|██████████| 40/40 [00:06<00:00,  5.74it/s]\n"
     ]
    },
    {
     "name": "stdout",
     "output_type": "stream",
     "text": [
      "\n",
      "Epoch: 2 Test set: Average loss: 1.5296, Accuracy: 4776/10000 (47.8%)\n",
      "\n",
      "currnt lr:0.1999229036240723\n"
     ]
    },
    {
     "name": "stderr",
     "output_type": "stream",
     "text": [
      "100%|██████████| 391/391 [02:00<00:00,  3.23it/s]\n",
      "100%|██████████| 40/40 [00:06<00:00,  5.74it/s]\n"
     ]
    },
    {
     "name": "stdout",
     "output_type": "stream",
     "text": [
      "\n",
      "Epoch: 3 Test set: Average loss: 1.2163, Accuracy: 5758/10000 (57.6%)\n",
      "\n",
      "currnt lr:0.19982656101847163\n"
     ]
    },
    {
     "name": "stderr",
     "output_type": "stream",
     "text": [
      "100%|██████████| 391/391 [02:00<00:00,  3.23it/s]\n",
      "100%|██████████| 40/40 [00:06<00:00,  5.76it/s]\n"
     ]
    },
    {
     "name": "stdout",
     "output_type": "stream",
     "text": [
      "\n",
      "Epoch: 4 Test set: Average loss: 0.8801, Accuracy: 6834/10000 (68.3%)\n",
      "\n",
      "currnt lr:0.1996917333733128\n"
     ]
    },
    {
     "name": "stderr",
     "output_type": "stream",
     "text": [
      "100%|██████████| 391/391 [02:00<00:00,  3.23it/s]\n",
      "100%|██████████| 40/40 [00:06<00:00,  5.80it/s]\n"
     ]
    },
    {
     "name": "stdout",
     "output_type": "stream",
     "text": [
      "\n",
      "Epoch: 5 Test set: Average loss: 0.9672, Accuracy: 6650/10000 (66.5%)\n",
      "\n",
      "currnt lr:0.1995184726672197\n"
     ]
    },
    {
     "name": "stderr",
     "output_type": "stream",
     "text": [
      "100%|██████████| 391/391 [02:00<00:00,  3.24it/s]\n",
      "100%|██████████| 40/40 [00:06<00:00,  5.75it/s]\n"
     ]
    },
    {
     "name": "stdout",
     "output_type": "stream",
     "text": [
      "\n",
      "Epoch: 6 Test set: Average loss: 0.9121, Accuracy: 6880/10000 (68.8%)\n",
      "\n",
      "currnt lr:0.19930684569549265\n"
     ]
    },
    {
     "name": "stderr",
     "output_type": "stream",
     "text": [
      "100%|██████████| 391/391 [02:00<00:00,  3.24it/s]\n",
      "100%|██████████| 40/40 [00:06<00:00,  5.78it/s]\n"
     ]
    },
    {
     "name": "stdout",
     "output_type": "stream",
     "text": [
      "\n",
      "Epoch: 7 Test set: Average loss: 0.8966, Accuracy: 7128/10000 (71.3%)\n",
      "\n",
      "currnt lr:0.19905693404435773\n"
     ]
    },
    {
     "name": "stderr",
     "output_type": "stream",
     "text": [
      "100%|██████████| 391/391 [02:00<00:00,  3.24it/s]\n",
      "100%|██████████| 40/40 [00:06<00:00,  5.73it/s]\n"
     ]
    },
    {
     "name": "stdout",
     "output_type": "stream",
     "text": [
      "\n",
      "Epoch: 8 Test set: Average loss: 0.7372, Accuracy: 7508/10000 (75.1%)\n",
      "\n",
      "currnt lr:0.1987688340595138\n"
     ]
    },
    {
     "name": "stderr",
     "output_type": "stream",
     "text": [
      "100%|██████████| 391/391 [02:00<00:00,  3.26it/s]\n",
      "100%|██████████| 40/40 [00:06<00:00,  5.79it/s]\n"
     ]
    },
    {
     "name": "stdout",
     "output_type": "stream",
     "text": [
      "\n",
      "Epoch: 9 Test set: Average loss: 0.7392, Accuracy: 7501/10000 (75.0%)\n",
      "\n",
      "currnt lr:0.19844265680898918\n"
     ]
    },
    {
     "name": "stderr",
     "output_type": "stream",
     "text": [
      "100%|██████████| 391/391 [01:59<00:00,  3.26it/s]\n",
      "100%|██████████| 40/40 [00:06<00:00,  5.80it/s]\n"
     ]
    },
    {
     "name": "stdout",
     "output_type": "stream",
     "text": [
      "\n",
      "Epoch: 10 Test set: Average loss: 1.2622, Accuracy: 6082/10000 (60.8%)\n",
      "\n",
      "currnt lr:0.19807852804032305\n"
     ]
    },
    {
     "name": "stderr",
     "output_type": "stream",
     "text": [
      "100%|██████████| 391/391 [01:59<00:00,  3.27it/s]\n",
      "100%|██████████| 40/40 [00:06<00:00,  5.77it/s]\n"
     ]
    },
    {
     "name": "stdout",
     "output_type": "stream",
     "text": [
      "\n",
      "Epoch: 11 Test set: Average loss: 0.7777, Accuracy: 7401/10000 (74.0%)\n",
      "\n",
      "currnt lr:0.19767658813208724\n"
     ]
    },
    {
     "name": "stderr",
     "output_type": "stream",
     "text": [
      "100%|██████████| 391/391 [01:59<00:00,  3.28it/s]\n",
      "100%|██████████| 40/40 [00:06<00:00,  5.78it/s]\n"
     ]
    },
    {
     "name": "stdout",
     "output_type": "stream",
     "text": [
      "\n",
      "Epoch: 12 Test set: Average loss: 0.8591, Accuracy: 7175/10000 (71.8%)\n",
      "\n",
      "currnt lr:0.19723699203976766\n"
     ]
    },
    {
     "name": "stderr",
     "output_type": "stream",
     "text": [
      "100%|██████████| 391/391 [01:59<00:00,  3.28it/s]\n",
      "100%|██████████| 40/40 [00:06<00:00,  5.80it/s]\n"
     ]
    },
    {
     "name": "stdout",
     "output_type": "stream",
     "text": [
      "\n",
      "Epoch: 13 Test set: Average loss: 0.7097, Accuracy: 7577/10000 (75.8%)\n",
      "\n",
      "currnt lr:0.196759909236026\n"
     ]
    },
    {
     "name": "stderr",
     "output_type": "stream",
     "text": [
      "100%|██████████| 391/391 [01:59<00:00,  3.28it/s]\n",
      "100%|██████████| 40/40 [00:06<00:00,  5.81it/s]\n"
     ]
    },
    {
     "name": "stdout",
     "output_type": "stream",
     "text": [
      "\n",
      "Epoch: 14 Test set: Average loss: 1.0545, Accuracy: 6893/10000 (68.9%)\n",
      "\n",
      "currnt lr:0.19624552364536474\n"
     ]
    },
    {
     "name": "stderr",
     "output_type": "stream",
     "text": [
      "100%|██████████| 391/391 [01:59<00:00,  3.28it/s]\n",
      "100%|██████████| 40/40 [00:06<00:00,  5.83it/s]\n"
     ]
    },
    {
     "name": "stdout",
     "output_type": "stream",
     "text": [
      "\n",
      "Epoch: 15 Test set: Average loss: 0.8656, Accuracy: 7175/10000 (71.8%)\n",
      "\n",
      "currnt lr:0.1956940335732209\n"
     ]
    },
    {
     "name": "stderr",
     "output_type": "stream",
     "text": [
      "100%|██████████| 391/391 [01:59<00:00,  3.28it/s]\n",
      "100%|██████████| 40/40 [00:06<00:00,  5.81it/s]\n"
     ]
    },
    {
     "name": "stdout",
     "output_type": "stream",
     "text": [
      "\n",
      "Epoch: 16 Test set: Average loss: 0.7700, Accuracy: 7436/10000 (74.4%)\n",
      "\n",
      "currnt lr:0.19510565162951538\n"
     ]
    },
    {
     "name": "stderr",
     "output_type": "stream",
     "text": [
      "100%|██████████| 391/391 [01:59<00:00,  3.27it/s]\n",
      "100%|██████████| 40/40 [00:06<00:00,  5.75it/s]\n"
     ]
    },
    {
     "name": "stdout",
     "output_type": "stream",
     "text": [
      "\n",
      "Epoch: 17 Test set: Average loss: 0.8109, Accuracy: 7419/10000 (74.2%)\n",
      "\n",
      "currnt lr:0.19448060464668782\n"
     ]
    },
    {
     "name": "stderr",
     "output_type": "stream",
     "text": [
      "100%|██████████| 391/391 [01:59<00:00,  3.28it/s]\n",
      "100%|██████████| 40/40 [00:06<00:00,  5.83it/s]\n"
     ]
    },
    {
     "name": "stdout",
     "output_type": "stream",
     "text": [
      "\n",
      "Epoch: 18 Test set: Average loss: 0.6861, Accuracy: 7741/10000 (77.4%)\n",
      "\n",
      "currnt lr:0.19381913359224845\n"
     ]
    },
    {
     "name": "stderr",
     "output_type": "stream",
     "text": [
      "100%|██████████| 391/391 [01:59<00:00,  3.27it/s]\n",
      "100%|██████████| 40/40 [00:06<00:00,  5.80it/s]\n"
     ]
    },
    {
     "name": "stdout",
     "output_type": "stream",
     "text": [
      "\n",
      "Epoch: 19 Test set: Average loss: 0.6481, Accuracy: 7810/10000 (78.1%)\n",
      "\n",
      "currnt lr:0.19312149347588037\n"
     ]
    },
    {
     "name": "stderr",
     "output_type": "stream",
     "text": [
      "100%|██████████| 391/391 [02:00<00:00,  3.25it/s]\n",
      "100%|██████████| 40/40 [00:06<00:00,  5.80it/s]\n"
     ]
    },
    {
     "name": "stdout",
     "output_type": "stream",
     "text": [
      "\n",
      "Epoch: 20 Test set: Average loss: 0.6289, Accuracy: 7835/10000 (78.3%)\n",
      "\n",
      "currnt lr:0.19238795325112867\n"
     ]
    },
    {
     "name": "stderr",
     "output_type": "stream",
     "text": [
      "100%|██████████| 391/391 [02:00<00:00,  3.24it/s]\n",
      "100%|██████████| 40/40 [00:06<00:00,  5.73it/s]\n"
     ]
    },
    {
     "name": "stdout",
     "output_type": "stream",
     "text": [
      "\n",
      "Epoch: 21 Test set: Average loss: 0.8066, Accuracy: 7418/10000 (74.2%)\n",
      "\n",
      "currnt lr:0.1916187957117136\n"
     ]
    },
    {
     "name": "stderr",
     "output_type": "stream",
     "text": [
      "100%|██████████| 391/391 [02:00<00:00,  3.24it/s]\n",
      "100%|██████████| 40/40 [00:06<00:00,  5.76it/s]\n"
     ]
    },
    {
     "name": "stdout",
     "output_type": "stream",
     "text": [
      "\n",
      "Epoch: 22 Test set: Average loss: 1.2362, Accuracy: 6632/10000 (66.3%)\n",
      "\n",
      "currnt lr:0.19081431738250815\n"
     ]
    },
    {
     "name": "stderr",
     "output_type": "stream",
     "text": [
      "100%|██████████| 391/391 [02:00<00:00,  3.25it/s]\n",
      "100%|██████████| 40/40 [00:06<00:00,  5.77it/s]\n"
     ]
    },
    {
     "name": "stdout",
     "output_type": "stream",
     "text": [
      "\n",
      "Epoch: 23 Test set: Average loss: 0.7383, Accuracy: 7574/10000 (75.7%)\n",
      "\n",
      "currnt lr:0.18997482840522217\n"
     ]
    },
    {
     "name": "stderr",
     "output_type": "stream",
     "text": [
      "100%|██████████| 391/391 [01:59<00:00,  3.26it/s]\n",
      "100%|██████████| 40/40 [00:06<00:00,  5.76it/s]\n"
     ]
    },
    {
     "name": "stdout",
     "output_type": "stream",
     "text": [
      "\n",
      "Epoch: 24 Test set: Average loss: 0.6185, Accuracy: 7907/10000 (79.1%)\n",
      "\n",
      "currnt lr:0.18910065241883678\n"
     ]
    },
    {
     "name": "stderr",
     "output_type": "stream",
     "text": [
      "100%|██████████| 391/391 [02:00<00:00,  3.24it/s]\n",
      "100%|██████████| 40/40 [00:06<00:00,  5.76it/s]\n"
     ]
    },
    {
     "name": "stdout",
     "output_type": "stream",
     "text": [
      "\n",
      "Epoch: 25 Test set: Average loss: 0.6402, Accuracy: 7757/10000 (77.6%)\n",
      "\n",
      "currnt lr:0.18819212643483552\n"
     ]
    },
    {
     "name": "stderr",
     "output_type": "stream",
     "text": [
      "100%|██████████| 391/391 [02:00<00:00,  3.24it/s]\n",
      "100%|██████████| 40/40 [00:06<00:00,  5.78it/s]\n"
     ]
    },
    {
     "name": "stdout",
     "output_type": "stream",
     "text": [
      "\n",
      "Epoch: 26 Test set: Average loss: 0.6599, Accuracy: 7795/10000 (77.9%)\n",
      "\n",
      "currnt lr:0.18724960070727972\n"
     ]
    },
    {
     "name": "stderr",
     "output_type": "stream",
     "text": [
      "100%|██████████| 391/391 [02:00<00:00,  3.25it/s]\n",
      "100%|██████████| 40/40 [00:06<00:00,  5.79it/s]\n"
     ]
    },
    {
     "name": "stdout",
     "output_type": "stream",
     "text": [
      "\n",
      "Epoch: 27 Test set: Average loss: 0.6845, Accuracy: 7711/10000 (77.1%)\n",
      "\n",
      "currnt lr:0.1862734385977792\n"
     ]
    },
    {
     "name": "stderr",
     "output_type": "stream",
     "text": [
      "100%|██████████| 391/391 [02:00<00:00,  3.25it/s]\n",
      "100%|██████████| 40/40 [00:06<00:00,  5.75it/s]\n"
     ]
    },
    {
     "name": "stdout",
     "output_type": "stream",
     "text": [
      "\n",
      "Epoch: 28 Test set: Average loss: 0.5580, Accuracy: 8105/10000 (81.1%)\n",
      "\n",
      "currnt lr:0.18526401643540924\n"
     ]
    },
    {
     "name": "stderr",
     "output_type": "stream",
     "text": [
      "100%|██████████| 391/391 [02:00<00:00,  3.24it/s]\n",
      "100%|██████████| 40/40 [00:06<00:00,  5.75it/s]\n"
     ]
    },
    {
     "name": "stdout",
     "output_type": "stream",
     "text": [
      "\n",
      "Epoch: 29 Test set: Average loss: 0.6387, Accuracy: 7909/10000 (79.1%)\n",
      "\n",
      "currnt lr:0.18422172337162868\n"
     ]
    },
    {
     "name": "stderr",
     "output_type": "stream",
     "text": [
      "100%|██████████| 391/391 [02:00<00:00,  3.24it/s]\n",
      "100%|██████████| 40/40 [00:06<00:00,  5.73it/s]\n"
     ]
    },
    {
     "name": "stdout",
     "output_type": "stream",
     "text": [
      "\n",
      "Epoch: 30 Test set: Average loss: 0.8270, Accuracy: 7290/10000 (72.9%)\n",
      "\n",
      "currnt lr:0.18314696123025453\n"
     ]
    },
    {
     "name": "stderr",
     "output_type": "stream",
     "text": [
      "100%|██████████| 391/391 [01:59<00:00,  3.26it/s]\n",
      "100%|██████████| 40/40 [00:06<00:00,  5.76it/s]\n"
     ]
    },
    {
     "name": "stdout",
     "output_type": "stream",
     "text": [
      "\n",
      "Epoch: 31 Test set: Average loss: 0.7077, Accuracy: 7662/10000 (76.6%)\n",
      "\n",
      "currnt lr:0.18204014435255136\n"
     ]
    },
    {
     "name": "stderr",
     "output_type": "stream",
     "text": [
      "100%|██████████| 391/391 [02:00<00:00,  3.26it/s]\n",
      "100%|██████████| 40/40 [00:06<00:00,  5.73it/s]\n"
     ]
    },
    {
     "name": "stdout",
     "output_type": "stream",
     "text": [
      "\n",
      "Epoch: 32 Test set: Average loss: 0.6224, Accuracy: 7890/10000 (78.9%)\n",
      "\n",
      "currnt lr:0.18090169943749476\n"
     ]
    },
    {
     "name": "stderr",
     "output_type": "stream",
     "text": [
      "100%|██████████| 391/391 [02:00<00:00,  3.24it/s]\n",
      "100%|██████████| 40/40 [00:06<00:00,  5.77it/s]\n"
     ]
    },
    {
     "name": "stdout",
     "output_type": "stream",
     "text": [
      "\n",
      "Epoch: 33 Test set: Average loss: 0.5583, Accuracy: 8093/10000 (80.9%)\n",
      "\n",
      "currnt lr:0.1797320653772707\n"
     ]
    },
    {
     "name": "stderr",
     "output_type": "stream",
     "text": [
      "100%|██████████| 391/391 [02:00<00:00,  3.24it/s]\n",
      "100%|██████████| 40/40 [00:06<00:00,  5.79it/s]\n"
     ]
    },
    {
     "name": "stdout",
     "output_type": "stream",
     "text": [
      "\n",
      "Epoch: 34 Test set: Average loss: 0.6852, Accuracy: 7656/10000 (76.6%)\n",
      "\n",
      "currnt lr:0.17853169308807448\n"
     ]
    },
    {
     "name": "stderr",
     "output_type": "stream",
     "text": [
      "100%|██████████| 391/391 [02:00<00:00,  3.24it/s]\n",
      "100%|██████████| 40/40 [00:06<00:00,  5.76it/s]\n"
     ]
    },
    {
     "name": "stdout",
     "output_type": "stream",
     "text": [
      "\n",
      "Epoch: 35 Test set: Average loss: 0.7370, Accuracy: 7677/10000 (76.8%)\n",
      "\n",
      "currnt lr:0.1773010453362737\n"
     ]
    },
    {
     "name": "stderr",
     "output_type": "stream",
     "text": [
      "100%|██████████| 391/391 [02:00<00:00,  3.24it/s]\n",
      "100%|██████████| 40/40 [00:07<00:00,  5.69it/s]\n"
     ]
    },
    {
     "name": "stdout",
     "output_type": "stream",
     "text": [
      "\n",
      "Epoch: 36 Test set: Average loss: 0.5724, Accuracy: 8047/10000 (80.5%)\n",
      "\n",
      "currnt lr:0.17604059656000312\n"
     ]
    },
    {
     "name": "stderr",
     "output_type": "stream",
     "text": [
      "100%|██████████| 391/391 [02:00<00:00,  3.24it/s]\n",
      "100%|██████████| 40/40 [00:06<00:00,  5.75it/s]\n"
     ]
    },
    {
     "name": "stdout",
     "output_type": "stream",
     "text": [
      "\n",
      "Epoch: 37 Test set: Average loss: 0.5648, Accuracy: 8052/10000 (80.5%)\n",
      "\n",
      "currnt lr:0.17475083268625968\n"
     ]
    },
    {
     "name": "stderr",
     "output_type": "stream",
     "text": [
      "100%|██████████| 391/391 [02:00<00:00,  3.24it/s]\n",
      "100%|██████████| 40/40 [00:06<00:00,  5.77it/s]\n"
     ]
    },
    {
     "name": "stdout",
     "output_type": "stream",
     "text": [
      "\n",
      "Epoch: 38 Test set: Average loss: 0.5780, Accuracy: 8056/10000 (80.6%)\n",
      "\n",
      "currnt lr:0.17343225094356857\n"
     ]
    },
    {
     "name": "stderr",
     "output_type": "stream",
     "text": [
      "100%|██████████| 391/391 [02:00<00:00,  3.25it/s]\n",
      "100%|██████████| 40/40 [00:06<00:00,  5.76it/s]\n"
     ]
    },
    {
     "name": "stdout",
     "output_type": "stream",
     "text": [
      "\n",
      "Epoch: 39 Test set: Average loss: 0.7776, Accuracy: 7608/10000 (76.1%)\n",
      "\n",
      "currnt lr:0.1720853596702919\n"
     ]
    },
    {
     "name": "stderr",
     "output_type": "stream",
     "text": [
      "100%|██████████| 391/391 [02:00<00:00,  3.25it/s]\n",
      "100%|██████████| 40/40 [00:06<00:00,  5.77it/s]\n"
     ]
    },
    {
     "name": "stdout",
     "output_type": "stream",
     "text": [
      "\n",
      "Epoch: 40 Test set: Average loss: 0.6709, Accuracy: 7831/10000 (78.3%)\n",
      "\n",
      "currnt lr:0.17071067811865476\n"
     ]
    },
    {
     "name": "stderr",
     "output_type": "stream",
     "text": [
      "100%|██████████| 391/391 [02:00<00:00,  3.23it/s]\n",
      "100%|██████████| 40/40 [00:07<00:00,  5.71it/s]\n"
     ]
    },
    {
     "name": "stdout",
     "output_type": "stream",
     "text": [
      "\n",
      "Epoch: 41 Test set: Average loss: 0.8091, Accuracy: 7361/10000 (73.6%)\n",
      "\n",
      "currnt lr:0.1693087362545636\n"
     ]
    },
    {
     "name": "stderr",
     "output_type": "stream",
     "text": [
      "100%|██████████| 391/391 [02:00<00:00,  3.24it/s]\n",
      "100%|██████████| 40/40 [00:06<00:00,  5.76it/s]\n"
     ]
    },
    {
     "name": "stdout",
     "output_type": "stream",
     "text": [
      "\n",
      "Epoch: 42 Test set: Average loss: 0.5555, Accuracy: 8136/10000 (81.4%)\n",
      "\n",
      "currnt lr:0.1678800745532942\n"
     ]
    },
    {
     "name": "stderr",
     "output_type": "stream",
     "text": [
      "100%|██████████| 391/391 [02:00<00:00,  3.25it/s]\n",
      "100%|██████████| 40/40 [00:06<00:00,  5.75it/s]\n"
     ]
    },
    {
     "name": "stdout",
     "output_type": "stream",
     "text": [
      "\n",
      "Epoch: 43 Test set: Average loss: 0.7617, Accuracy: 7533/10000 (75.3%)\n",
      "\n",
      "currnt lr:0.1664252437911282\n"
     ]
    },
    {
     "name": "stderr",
     "output_type": "stream",
     "text": [
      "100%|██████████| 391/391 [02:00<00:00,  3.25it/s]\n",
      "100%|██████████| 40/40 [00:06<00:00,  5.78it/s]\n"
     ]
    },
    {
     "name": "stdout",
     "output_type": "stream",
     "text": [
      "\n",
      "Epoch: 44 Test set: Average loss: 0.6501, Accuracy: 7931/10000 (79.3%)\n",
      "\n",
      "currnt lr:0.1649448048330184\n"
     ]
    },
    {
     "name": "stderr",
     "output_type": "stream",
     "text": [
      "100%|██████████| 391/391 [02:00<00:00,  3.25it/s]\n",
      "100%|██████████| 40/40 [00:06<00:00,  5.77it/s]\n"
     ]
    },
    {
     "name": "stdout",
     "output_type": "stream",
     "text": [
      "\n",
      "Epoch: 45 Test set: Average loss: 0.5472, Accuracy: 8198/10000 (82.0%)\n",
      "\n",
      "currnt lr:0.16343932841636455\n"
     ]
    },
    {
     "name": "stderr",
     "output_type": "stream",
     "text": [
      "100%|██████████| 391/391 [02:00<00:00,  3.25it/s]\n",
      "100%|██████████| 40/40 [00:06<00:00,  5.77it/s]\n"
     ]
    },
    {
     "name": "stdout",
     "output_type": "stream",
     "text": [
      "\n",
      "Epoch: 46 Test set: Average loss: 0.6131, Accuracy: 7906/10000 (79.1%)\n",
      "\n",
      "currnt lr:0.1619093949309834\n"
     ]
    },
    {
     "name": "stderr",
     "output_type": "stream",
     "text": [
      "100%|██████████| 391/391 [02:00<00:00,  3.25it/s]\n",
      "100%|██████████| 40/40 [00:07<00:00,  5.69it/s]\n"
     ]
    },
    {
     "name": "stdout",
     "output_type": "stream",
     "text": [
      "\n",
      "Epoch: 47 Test set: Average loss: 0.7188, Accuracy: 7656/10000 (76.6%)\n",
      "\n",
      "currnt lr:0.16035559419535714\n"
     ]
    },
    {
     "name": "stderr",
     "output_type": "stream",
     "text": [
      "100%|██████████| 391/391 [02:00<00:00,  3.24it/s]\n",
      "100%|██████████| 40/40 [00:06<00:00,  5.77it/s]\n"
     ]
    },
    {
     "name": "stdout",
     "output_type": "stream",
     "text": [
      "\n",
      "Epoch: 48 Test set: Average loss: 0.8087, Accuracy: 7474/10000 (74.7%)\n",
      "\n",
      "currnt lr:0.15877852522924732\n"
     ]
    },
    {
     "name": "stderr",
     "output_type": "stream",
     "text": [
      "100%|██████████| 391/391 [02:00<00:00,  3.24it/s]\n",
      "100%|██████████| 40/40 [00:06<00:00,  5.77it/s]\n"
     ]
    },
    {
     "name": "stdout",
     "output_type": "stream",
     "text": [
      "\n",
      "Epoch: 49 Test set: Average loss: 0.6504, Accuracy: 7877/10000 (78.8%)\n",
      "\n",
      "currnt lr:0.15717879602276125\n"
     ]
    },
    {
     "name": "stderr",
     "output_type": "stream",
     "text": [
      "100%|██████████| 391/391 [02:00<00:00,  3.25it/s]\n",
      "100%|██████████| 40/40 [00:06<00:00,  5.78it/s]\n"
     ]
    },
    {
     "name": "stdout",
     "output_type": "stream",
     "text": [
      "\n",
      "Epoch: 50 Test set: Average loss: 0.7021, Accuracy: 7738/10000 (77.4%)\n",
      "\n",
      "currnt lr:0.15555702330196022\n"
     ]
    },
    {
     "name": "stderr",
     "output_type": "stream",
     "text": [
      "100%|██████████| 391/391 [02:00<00:00,  3.25it/s]\n",
      "100%|██████████| 40/40 [00:06<00:00,  5.83it/s]\n"
     ]
    },
    {
     "name": "stdout",
     "output_type": "stream",
     "text": [
      "\n",
      "Epoch: 51 Test set: Average loss: 0.6408, Accuracy: 7851/10000 (78.5%)\n",
      "\n",
      "currnt lr:0.15391383229110006\n"
     ]
    },
    {
     "name": "stderr",
     "output_type": "stream",
     "text": [
      "100%|██████████| 391/391 [02:00<00:00,  3.25it/s]\n",
      "100%|██████████| 40/40 [00:06<00:00,  5.75it/s]\n"
     ]
    },
    {
     "name": "stdout",
     "output_type": "stream",
     "text": [
      "\n",
      "Epoch: 52 Test set: Average loss: 0.7120, Accuracy: 7730/10000 (77.3%)\n",
      "\n",
      "currnt lr:0.1522498564715949\n"
     ]
    },
    {
     "name": "stderr",
     "output_type": "stream",
     "text": [
      "100%|██████████| 391/391 [02:00<00:00,  3.25it/s]\n",
      "100%|██████████| 40/40 [00:06<00:00,  5.75it/s]\n"
     ]
    },
    {
     "name": "stdout",
     "output_type": "stream",
     "text": [
      "\n",
      "Epoch: 53 Test set: Average loss: 0.5972, Accuracy: 7962/10000 (79.6%)\n",
      "\n",
      "currnt lr:0.15056573733779846\n"
     ]
    },
    {
     "name": "stderr",
     "output_type": "stream",
     "text": [
      "100%|██████████| 391/391 [02:00<00:00,  3.25it/s]\n",
      "100%|██████████| 40/40 [00:06<00:00,  5.77it/s]\n"
     ]
    },
    {
     "name": "stdout",
     "output_type": "stream",
     "text": [
      "\n",
      "Epoch: 54 Test set: Average loss: 0.5394, Accuracy: 8166/10000 (81.7%)\n",
      "\n",
      "currnt lr:0.14886212414969552\n"
     ]
    },
    {
     "name": "stderr",
     "output_type": "stream",
     "text": [
      "100%|██████████| 391/391 [02:00<00:00,  3.25it/s]\n",
      "100%|██████████| 40/40 [00:06<00:00,  5.74it/s]\n"
     ]
    },
    {
     "name": "stdout",
     "output_type": "stream",
     "text": [
      "\n",
      "Epoch: 55 Test set: Average loss: 0.8425, Accuracy: 7440/10000 (74.4%)\n",
      "\n",
      "currnt lr:0.14713967368259975\n"
     ]
    },
    {
     "name": "stderr",
     "output_type": "stream",
     "text": [
      "100%|██████████| 391/391 [02:00<00:00,  3.25it/s]\n",
      "100%|██████████| 40/40 [00:07<00:00,  5.70it/s]\n"
     ]
    },
    {
     "name": "stdout",
     "output_type": "stream",
     "text": [
      "\n",
      "Epoch: 56 Test set: Average loss: 0.6108, Accuracy: 7983/10000 (79.8%)\n",
      "\n",
      "currnt lr:0.14539904997395467\n"
     ]
    },
    {
     "name": "stderr",
     "output_type": "stream",
     "text": [
      "100%|██████████| 391/391 [01:59<00:00,  3.26it/s]\n",
      "100%|██████████| 40/40 [00:06<00:00,  5.80it/s]\n"
     ]
    },
    {
     "name": "stdout",
     "output_type": "stream",
     "text": [
      "\n",
      "Epoch: 57 Test set: Average loss: 0.6160, Accuracy: 7959/10000 (79.6%)\n",
      "\n",
      "currnt lr:0.14364092406733422\n"
     ]
    },
    {
     "name": "stderr",
     "output_type": "stream",
     "text": [
      "100%|██████████| 391/391 [01:59<00:00,  3.26it/s]\n",
      "100%|██████████| 40/40 [00:06<00:00,  5.80it/s]\n"
     ]
    },
    {
     "name": "stdout",
     "output_type": "stream",
     "text": [
      "\n",
      "Epoch: 58 Test set: Average loss: 0.5120, Accuracy: 8323/10000 (83.2%)\n",
      "\n",
      "currnt lr:0.14186597375374282\n"
     ]
    },
    {
     "name": "stderr",
     "output_type": "stream",
     "text": [
      "100%|██████████| 391/391 [01:59<00:00,  3.26it/s]\n",
      "100%|██████████| 40/40 [00:06<00:00,  5.78it/s]\n"
     ]
    },
    {
     "name": "stdout",
     "output_type": "stream",
     "text": [
      "\n",
      "Epoch: 59 Test set: Average loss: 0.5427, Accuracy: 8166/10000 (81.7%)\n",
      "\n",
      "currnt lr:0.14007488331031412\n"
     ]
    },
    {
     "name": "stderr",
     "output_type": "stream",
     "text": [
      "100%|██████████| 391/391 [01:59<00:00,  3.26it/s]\n",
      "100%|██████████| 40/40 [00:06<00:00,  5.82it/s]\n"
     ]
    },
    {
     "name": "stdout",
     "output_type": "stream",
     "text": [
      "\n",
      "Epoch: 60 Test set: Average loss: 0.7479, Accuracy: 7450/10000 (74.5%)\n",
      "\n",
      "currnt lr:0.138268343236509\n"
     ]
    },
    {
     "name": "stderr",
     "output_type": "stream",
     "text": [
      "100%|██████████| 391/391 [01:59<00:00,  3.26it/s]\n",
      "100%|██████████| 40/40 [00:06<00:00,  5.81it/s]\n"
     ]
    },
    {
     "name": "stdout",
     "output_type": "stream",
     "text": [
      "\n",
      "Epoch: 61 Test set: Average loss: 0.5503, Accuracy: 8184/10000 (81.8%)\n",
      "\n",
      "currnt lr:0.13644704998791496\n"
     ]
    },
    {
     "name": "stderr",
     "output_type": "stream",
     "text": [
      "100%|██████████| 391/391 [01:59<00:00,  3.26it/s]\n",
      "100%|██████████| 40/40 [00:06<00:00,  5.77it/s]\n"
     ]
    },
    {
     "name": "stdout",
     "output_type": "stream",
     "text": [
      "\n",
      "Epoch: 62 Test set: Average loss: 0.6331, Accuracy: 7937/10000 (79.4%)\n",
      "\n",
      "currnt lr:0.1346117057077493\n"
     ]
    },
    {
     "name": "stderr",
     "output_type": "stream",
     "text": [
      "100%|██████████| 391/391 [01:59<00:00,  3.27it/s]\n",
      "100%|██████████| 40/40 [00:06<00:00,  5.81it/s]\n"
     ]
    },
    {
     "name": "stdout",
     "output_type": "stream",
     "text": [
      "\n",
      "Epoch: 63 Test set: Average loss: 0.5314, Accuracy: 8201/10000 (82.0%)\n",
      "\n",
      "currnt lr:0.13276301795616935\n"
     ]
    },
    {
     "name": "stderr",
     "output_type": "stream",
     "text": [
      "100%|██████████| 391/391 [01:59<00:00,  3.27it/s]\n",
      "100%|██████████| 40/40 [00:06<00:00,  5.82it/s]\n"
     ]
    },
    {
     "name": "stdout",
     "output_type": "stream",
     "text": [
      "\n",
      "Epoch: 64 Test set: Average loss: 0.8097, Accuracy: 7551/10000 (75.5%)\n",
      "\n",
      "currnt lr:0.13090169943749475\n"
     ]
    },
    {
     "name": "stderr",
     "output_type": "stream",
     "text": [
      "100%|██████████| 391/391 [01:59<00:00,  3.28it/s]\n",
      "100%|██████████| 40/40 [00:06<00:00,  5.85it/s]\n"
     ]
    },
    {
     "name": "stdout",
     "output_type": "stream",
     "text": [
      "\n",
      "Epoch: 65 Test set: Average loss: 0.5548, Accuracy: 8211/10000 (82.1%)\n",
      "\n",
      "currnt lr:0.12902846772544627\n"
     ]
    },
    {
     "name": "stderr",
     "output_type": "stream",
     "text": [
      "100%|██████████| 391/391 [01:59<00:00,  3.28it/s]\n",
      "100%|██████████| 40/40 [00:06<00:00,  5.79it/s]\n"
     ]
    },
    {
     "name": "stdout",
     "output_type": "stream",
     "text": [
      "\n",
      "Epoch: 66 Test set: Average loss: 0.6068, Accuracy: 8071/10000 (80.7%)\n",
      "\n",
      "currnt lr:0.12714404498650742\n"
     ]
    },
    {
     "name": "stderr",
     "output_type": "stream",
     "text": [
      "100%|██████████| 391/391 [01:59<00:00,  3.28it/s]\n",
      "100%|██████████| 40/40 [00:06<00:00,  5.76it/s]\n"
     ]
    },
    {
     "name": "stdout",
     "output_type": "stream",
     "text": [
      "\n",
      "Epoch: 67 Test set: Average loss: 0.4659, Accuracy: 8423/10000 (84.2%)\n",
      "\n",
      "currnt lr:0.12524915770151582\n"
     ]
    },
    {
     "name": "stderr",
     "output_type": "stream",
     "text": [
      "100%|██████████| 391/391 [01:59<00:00,  3.28it/s]\n",
      "100%|██████████| 40/40 [00:06<00:00,  5.80it/s]\n"
     ]
    },
    {
     "name": "stdout",
     "output_type": "stream",
     "text": [
      "\n",
      "Epoch: 68 Test set: Average loss: 0.6351, Accuracy: 8041/10000 (80.4%)\n",
      "\n",
      "currnt lr:0.12334453638559056\n"
     ]
    },
    {
     "name": "stderr",
     "output_type": "stream",
     "text": [
      "100%|██████████| 391/391 [01:59<00:00,  3.28it/s]\n",
      "100%|██████████| 40/40 [00:06<00:00,  5.81it/s]\n"
     ]
    },
    {
     "name": "stdout",
     "output_type": "stream",
     "text": [
      "\n",
      "Epoch: 69 Test set: Average loss: 0.5263, Accuracy: 8214/10000 (82.1%)\n",
      "\n",
      "currnt lr:0.12143091530650507\n"
     ]
    },
    {
     "name": "stderr",
     "output_type": "stream",
     "text": [
      "100%|██████████| 391/391 [01:59<00:00,  3.28it/s]\n",
      "100%|██████████| 40/40 [00:06<00:00,  5.83it/s]\n"
     ]
    },
    {
     "name": "stdout",
     "output_type": "stream",
     "text": [
      "\n",
      "Epoch: 70 Test set: Average loss: 0.5524, Accuracy: 8173/10000 (81.7%)\n",
      "\n",
      "currnt lr:0.11950903220161285\n"
     ]
    },
    {
     "name": "stderr",
     "output_type": "stream",
     "text": [
      "100%|██████████| 391/391 [01:59<00:00,  3.28it/s]\n",
      "100%|██████████| 40/40 [00:06<00:00,  5.78it/s]\n"
     ]
    },
    {
     "name": "stdout",
     "output_type": "stream",
     "text": [
      "\n",
      "Epoch: 71 Test set: Average loss: 0.5790, Accuracy: 8150/10000 (81.5%)\n",
      "\n",
      "currnt lr:0.11757962799343545\n"
     ]
    },
    {
     "name": "stderr",
     "output_type": "stream",
     "text": [
      "100%|██████████| 391/391 [01:59<00:00,  3.26it/s]\n",
      "100%|██████████| 40/40 [00:06<00:00,  5.76it/s]\n"
     ]
    },
    {
     "name": "stdout",
     "output_type": "stream",
     "text": [
      "\n",
      "Epoch: 72 Test set: Average loss: 0.4645, Accuracy: 8397/10000 (84.0%)\n",
      "\n",
      "currnt lr:0.1156434465040231\n"
     ]
    },
    {
     "name": "stderr",
     "output_type": "stream",
     "text": [
      "100%|██████████| 391/391 [02:00<00:00,  3.25it/s]\n",
      "100%|██████████| 40/40 [00:06<00:00,  5.79it/s]\n"
     ]
    },
    {
     "name": "stdout",
     "output_type": "stream",
     "text": [
      "\n",
      "Epoch: 73 Test set: Average loss: 0.6081, Accuracy: 8070/10000 (80.7%)\n",
      "\n",
      "currnt lr:0.11370123416819683\n"
     ]
    },
    {
     "name": "stderr",
     "output_type": "stream",
     "text": [
      "100%|██████████| 391/391 [01:59<00:00,  3.26it/s]\n",
      "100%|██████████| 40/40 [00:06<00:00,  5.82it/s]\n"
     ]
    },
    {
     "name": "stdout",
     "output_type": "stream",
     "text": [
      "\n",
      "Epoch: 74 Test set: Average loss: 0.5266, Accuracy: 8191/10000 (81.9%)\n",
      "\n",
      "currnt lr:0.11175373974578379\n"
     ]
    },
    {
     "name": "stderr",
     "output_type": "stream",
     "text": [
      "100%|██████████| 391/391 [01:59<00:00,  3.26it/s]\n",
      "100%|██████████| 40/40 [00:06<00:00,  5.75it/s]\n"
     ]
    },
    {
     "name": "stdout",
     "output_type": "stream",
     "text": [
      "\n",
      "Epoch: 75 Test set: Average loss: 0.5129, Accuracy: 8233/10000 (82.3%)\n",
      "\n",
      "currnt lr:0.10980171403295609\n"
     ]
    },
    {
     "name": "stderr",
     "output_type": "stream",
     "text": [
      "100%|██████████| 391/391 [02:00<00:00,  3.25it/s]\n",
      "100%|██████████| 40/40 [00:06<00:00,  5.75it/s]\n"
     ]
    },
    {
     "name": "stdout",
     "output_type": "stream",
     "text": [
      "\n",
      "Epoch: 76 Test set: Average loss: 0.5297, Accuracy: 8252/10000 (82.5%)\n",
      "\n",
      "currnt lr:0.1078459095727845\n"
     ]
    },
    {
     "name": "stderr",
     "output_type": "stream",
     "text": [
      "100%|██████████| 391/391 [02:00<00:00,  3.25it/s]\n",
      "100%|██████████| 40/40 [00:06<00:00,  5.77it/s]\n"
     ]
    },
    {
     "name": "stdout",
     "output_type": "stream",
     "text": [
      "\n",
      "Epoch: 77 Test set: Average loss: 0.4750, Accuracy: 8428/10000 (84.3%)\n",
      "\n",
      "currnt lr:0.1058870803651189\n"
     ]
    },
    {
     "name": "stderr",
     "output_type": "stream",
     "text": [
      "100%|██████████| 391/391 [01:59<00:00,  3.26it/s]\n",
      "100%|██████████| 40/40 [00:06<00:00,  5.80it/s]\n"
     ]
    },
    {
     "name": "stdout",
     "output_type": "stream",
     "text": [
      "\n",
      "Epoch: 78 Test set: Average loss: 0.5020, Accuracy: 8342/10000 (83.4%)\n",
      "\n",
      "currnt lr:0.10392598157590688\n"
     ]
    },
    {
     "name": "stderr",
     "output_type": "stream",
     "text": [
      "100%|██████████| 391/391 [01:59<00:00,  3.26it/s]\n",
      "100%|██████████| 40/40 [00:06<00:00,  5.80it/s]\n"
     ]
    },
    {
     "name": "stdout",
     "output_type": "stream",
     "text": [
      "\n",
      "Epoch: 79 Test set: Average loss: 0.4810, Accuracy: 8343/10000 (83.4%)\n",
      "\n",
      "currnt lr:0.10196336924606282\n"
     ]
    },
    {
     "name": "stderr",
     "output_type": "stream",
     "text": [
      "100%|██████████| 391/391 [02:00<00:00,  3.25it/s]\n",
      "100%|██████████| 40/40 [00:06<00:00,  5.76it/s]\n"
     ]
    },
    {
     "name": "stdout",
     "output_type": "stream",
     "text": [
      "\n",
      "Epoch: 80 Test set: Average loss: 0.6666, Accuracy: 7930/10000 (79.3%)\n",
      "\n",
      "currnt lr:0.1\n"
     ]
    },
    {
     "name": "stderr",
     "output_type": "stream",
     "text": [
      "100%|██████████| 391/391 [02:00<00:00,  3.25it/s]\n",
      "100%|██████████| 40/40 [00:06<00:00,  5.80it/s]\n"
     ]
    },
    {
     "name": "stdout",
     "output_type": "stream",
     "text": [
      "\n",
      "Epoch: 81 Test set: Average loss: 0.4359, Accuracy: 8449/10000 (84.5%)\n",
      "\n",
      "currnt lr:0.09803663075393719\n"
     ]
    },
    {
     "name": "stderr",
     "output_type": "stream",
     "text": [
      "100%|██████████| 391/391 [01:59<00:00,  3.26it/s]\n",
      "100%|██████████| 40/40 [00:06<00:00,  5.77it/s]\n"
     ]
    },
    {
     "name": "stdout",
     "output_type": "stream",
     "text": [
      "\n",
      "Epoch: 82 Test set: Average loss: 0.5535, Accuracy: 8224/10000 (82.2%)\n",
      "\n",
      "currnt lr:0.09607401842409317\n"
     ]
    },
    {
     "name": "stderr",
     "output_type": "stream",
     "text": [
      "100%|██████████| 391/391 [02:00<00:00,  3.26it/s]\n",
      "100%|██████████| 40/40 [00:06<00:00,  5.73it/s]\n"
     ]
    },
    {
     "name": "stdout",
     "output_type": "stream",
     "text": [
      "\n",
      "Epoch: 83 Test set: Average loss: 0.4922, Accuracy: 8400/10000 (84.0%)\n",
      "\n",
      "currnt lr:0.0941129196348811\n"
     ]
    },
    {
     "name": "stderr",
     "output_type": "stream",
     "text": [
      "100%|██████████| 391/391 [02:00<00:00,  3.24it/s]\n",
      "100%|██████████| 40/40 [00:06<00:00,  5.76it/s]\n"
     ]
    },
    {
     "name": "stdout",
     "output_type": "stream",
     "text": [
      "\n",
      "Epoch: 84 Test set: Average loss: 0.3980, Accuracy: 8623/10000 (86.2%)\n",
      "\n",
      "currnt lr:0.09215409042721552\n"
     ]
    },
    {
     "name": "stderr",
     "output_type": "stream",
     "text": [
      "100%|██████████| 391/391 [02:00<00:00,  3.25it/s]\n",
      "100%|██████████| 40/40 [00:06<00:00,  5.78it/s]\n"
     ]
    },
    {
     "name": "stdout",
     "output_type": "stream",
     "text": [
      "\n",
      "Epoch: 85 Test set: Average loss: 0.5261, Accuracy: 8305/10000 (83.1%)\n",
      "\n",
      "currnt lr:0.09019828596704393\n"
     ]
    },
    {
     "name": "stderr",
     "output_type": "stream",
     "text": [
      "100%|██████████| 391/391 [01:59<00:00,  3.27it/s]\n",
      "100%|██████████| 40/40 [00:06<00:00,  5.78it/s]\n"
     ]
    },
    {
     "name": "stdout",
     "output_type": "stream",
     "text": [
      "\n",
      "Epoch: 86 Test set: Average loss: 0.4248, Accuracy: 8558/10000 (85.6%)\n",
      "\n",
      "currnt lr:0.08824626025421625\n"
     ]
    },
    {
     "name": "stderr",
     "output_type": "stream",
     "text": [
      "100%|██████████| 391/391 [01:59<00:00,  3.26it/s]\n",
      "100%|██████████| 40/40 [00:07<00:00,  5.69it/s]\n"
     ]
    },
    {
     "name": "stdout",
     "output_type": "stream",
     "text": [
      "\n",
      "Epoch: 87 Test set: Average loss: 0.4224, Accuracy: 8571/10000 (85.7%)\n",
      "\n",
      "currnt lr:0.08629876583180322\n"
     ]
    },
    {
     "name": "stderr",
     "output_type": "stream",
     "text": [
      "100%|██████████| 391/391 [02:00<00:00,  3.24it/s]\n",
      "100%|██████████| 40/40 [00:06<00:00,  5.73it/s]\n"
     ]
    },
    {
     "name": "stdout",
     "output_type": "stream",
     "text": [
      "\n",
      "Epoch: 88 Test set: Average loss: 0.4619, Accuracy: 8444/10000 (84.4%)\n",
      "\n",
      "currnt lr:0.08435655349597694\n"
     ]
    },
    {
     "name": "stderr",
     "output_type": "stream",
     "text": [
      "100%|██████████| 391/391 [02:00<00:00,  3.25it/s]\n",
      "100%|██████████| 40/40 [00:06<00:00,  5.76it/s]\n"
     ]
    },
    {
     "name": "stdout",
     "output_type": "stream",
     "text": [
      "\n",
      "Epoch: 89 Test set: Average loss: 0.4791, Accuracy: 8384/10000 (83.8%)\n",
      "\n",
      "currnt lr:0.08242037200656455\n"
     ]
    },
    {
     "name": "stderr",
     "output_type": "stream",
     "text": [
      "100%|██████████| 391/391 [02:00<00:00,  3.25it/s]\n",
      "100%|██████████| 40/40 [00:06<00:00,  5.79it/s]\n"
     ]
    },
    {
     "name": "stdout",
     "output_type": "stream",
     "text": [
      "\n",
      "Epoch: 90 Test set: Average loss: 0.4257, Accuracy: 8588/10000 (85.9%)\n",
      "\n",
      "currnt lr:0.08049096779838719\n"
     ]
    },
    {
     "name": "stderr",
     "output_type": "stream",
     "text": [
      "100%|██████████| 391/391 [02:00<00:00,  3.25it/s]\n",
      "100%|██████████| 40/40 [00:06<00:00,  5.78it/s]\n"
     ]
    },
    {
     "name": "stdout",
     "output_type": "stream",
     "text": [
      "\n",
      "Epoch: 91 Test set: Average loss: 0.4129, Accuracy: 8622/10000 (86.2%)\n",
      "\n",
      "currnt lr:0.07856908469349494\n"
     ]
    },
    {
     "name": "stderr",
     "output_type": "stream",
     "text": [
      "100%|██████████| 391/391 [02:00<00:00,  3.24it/s]\n",
      "100%|██████████| 40/40 [00:06<00:00,  5.77it/s]\n"
     ]
    },
    {
     "name": "stdout",
     "output_type": "stream",
     "text": [
      "\n",
      "Epoch: 92 Test set: Average loss: 0.5078, Accuracy: 8335/10000 (83.3%)\n",
      "\n",
      "currnt lr:0.07665546361440947\n"
     ]
    },
    {
     "name": "stderr",
     "output_type": "stream",
     "text": [
      "100%|██████████| 391/391 [02:00<00:00,  3.25it/s]\n",
      "100%|██████████| 40/40 [00:06<00:00,  5.84it/s]\n"
     ]
    },
    {
     "name": "stdout",
     "output_type": "stream",
     "text": [
      "\n",
      "Epoch: 93 Test set: Average loss: 0.4666, Accuracy: 8484/10000 (84.8%)\n",
      "\n",
      "currnt lr:0.07475084229848422\n"
     ]
    },
    {
     "name": "stderr",
     "output_type": "stream",
     "text": [
      "100%|██████████| 391/391 [01:59<00:00,  3.26it/s]\n",
      "100%|██████████| 40/40 [00:06<00:00,  5.80it/s]\n"
     ]
    },
    {
     "name": "stdout",
     "output_type": "stream",
     "text": [
      "\n",
      "Epoch: 94 Test set: Average loss: 0.4648, Accuracy: 8483/10000 (84.8%)\n",
      "\n",
      "currnt lr:0.07285595501349255\n"
     ]
    },
    {
     "name": "stderr",
     "output_type": "stream",
     "text": [
      "100%|██████████| 391/391 [02:00<00:00,  3.25it/s]\n",
      "100%|██████████| 40/40 [00:06<00:00,  5.75it/s]\n"
     ]
    },
    {
     "name": "stdout",
     "output_type": "stream",
     "text": [
      "\n",
      "Epoch: 95 Test set: Average loss: 0.3722, Accuracy: 8714/10000 (87.1%)\n",
      "\n",
      "currnt lr:0.07097153227455376\n"
     ]
    },
    {
     "name": "stderr",
     "output_type": "stream",
     "text": [
      "100%|██████████| 391/391 [02:00<00:00,  3.24it/s]\n",
      "100%|██████████| 40/40 [00:06<00:00,  5.78it/s]\n"
     ]
    },
    {
     "name": "stdout",
     "output_type": "stream",
     "text": [
      "\n",
      "Epoch: 96 Test set: Average loss: 0.4189, Accuracy: 8606/10000 (86.1%)\n",
      "\n",
      "currnt lr:0.06909830056250527\n"
     ]
    },
    {
     "name": "stderr",
     "output_type": "stream",
     "text": [
      "100%|██████████| 391/391 [02:00<00:00,  3.26it/s]\n",
      "100%|██████████| 40/40 [00:06<00:00,  5.75it/s]\n"
     ]
    },
    {
     "name": "stdout",
     "output_type": "stream",
     "text": [
      "\n",
      "Epoch: 97 Test set: Average loss: 0.4360, Accuracy: 8562/10000 (85.6%)\n",
      "\n",
      "currnt lr:0.06723698204383066\n"
     ]
    },
    {
     "name": "stderr",
     "output_type": "stream",
     "text": [
      "100%|██████████| 391/391 [01:59<00:00,  3.26it/s]\n",
      "100%|██████████| 40/40 [00:06<00:00,  5.79it/s]\n"
     ]
    },
    {
     "name": "stdout",
     "output_type": "stream",
     "text": [
      "\n",
      "Epoch: 98 Test set: Average loss: 0.4254, Accuracy: 8564/10000 (85.6%)\n",
      "\n",
      "currnt lr:0.06538829429225072\n"
     ]
    },
    {
     "name": "stderr",
     "output_type": "stream",
     "text": [
      "100%|██████████| 391/391 [02:00<00:00,  3.25it/s]\n",
      "100%|██████████| 40/40 [00:06<00:00,  5.76it/s]\n"
     ]
    },
    {
     "name": "stdout",
     "output_type": "stream",
     "text": [
      "\n",
      "Epoch: 99 Test set: Average loss: 0.5124, Accuracy: 8328/10000 (83.3%)\n",
      "\n",
      "currnt lr:0.06355295001208504\n"
     ]
    },
    {
     "name": "stderr",
     "output_type": "stream",
     "text": [
      "100%|██████████| 391/391 [02:00<00:00,  3.24it/s]\n",
      "100%|██████████| 40/40 [00:06<00:00,  5.79it/s]\n"
     ]
    },
    {
     "name": "stdout",
     "output_type": "stream",
     "text": [
      "\n",
      "Epoch: 100 Test set: Average loss: 0.3954, Accuracy: 8685/10000 (86.8%)\n",
      "\n",
      "currnt lr:0.06173165676349103\n"
     ]
    },
    {
     "name": "stderr",
     "output_type": "stream",
     "text": [
      "100%|██████████| 391/391 [02:00<00:00,  3.25it/s]\n",
      "100%|██████████| 40/40 [00:06<00:00,  5.82it/s]\n"
     ]
    },
    {
     "name": "stdout",
     "output_type": "stream",
     "text": [
      "\n",
      "Epoch: 101 Test set: Average loss: 0.3804, Accuracy: 8725/10000 (87.2%)\n",
      "\n",
      "currnt lr:0.0599251166896859\n"
     ]
    },
    {
     "name": "stderr",
     "output_type": "stream",
     "text": [
      "100%|██████████| 391/391 [01:59<00:00,  3.26it/s]\n",
      "100%|██████████| 40/40 [00:06<00:00,  5.82it/s]\n"
     ]
    },
    {
     "name": "stdout",
     "output_type": "stream",
     "text": [
      "\n",
      "Epoch: 102 Test set: Average loss: 0.4001, Accuracy: 8686/10000 (86.9%)\n",
      "\n",
      "currnt lr:0.05813402624625722\n"
     ]
    },
    {
     "name": "stderr",
     "output_type": "stream",
     "text": [
      "100%|██████████| 391/391 [02:00<00:00,  3.25it/s]\n",
      "100%|██████████| 40/40 [00:07<00:00,  5.70it/s]\n"
     ]
    },
    {
     "name": "stdout",
     "output_type": "stream",
     "text": [
      "\n",
      "Epoch: 103 Test set: Average loss: 0.3880, Accuracy: 8731/10000 (87.3%)\n",
      "\n",
      "currnt lr:0.05635907593266581\n"
     ]
    },
    {
     "name": "stderr",
     "output_type": "stream",
     "text": [
      "100%|██████████| 391/391 [02:00<00:00,  3.24it/s]\n",
      "100%|██████████| 40/40 [00:06<00:00,  5.76it/s]\n"
     ]
    },
    {
     "name": "stdout",
     "output_type": "stream",
     "text": [
      "\n",
      "Epoch: 104 Test set: Average loss: 0.3817, Accuracy: 8714/10000 (87.1%)\n",
      "\n",
      "currnt lr:0.05460095002604533\n"
     ]
    },
    {
     "name": "stderr",
     "output_type": "stream",
     "text": [
      "100%|██████████| 391/391 [01:59<00:00,  3.26it/s]\n",
      "100%|██████████| 40/40 [00:06<00:00,  5.78it/s]\n"
     ]
    },
    {
     "name": "stdout",
     "output_type": "stream",
     "text": [
      "\n",
      "Epoch: 105 Test set: Average loss: 0.4041, Accuracy: 8656/10000 (86.6%)\n",
      "\n",
      "currnt lr:0.05286032631740023\n"
     ]
    },
    {
     "name": "stderr",
     "output_type": "stream",
     "text": [
      "100%|██████████| 391/391 [01:59<00:00,  3.27it/s]\n",
      "100%|██████████| 40/40 [00:06<00:00,  5.83it/s]\n"
     ]
    },
    {
     "name": "stdout",
     "output_type": "stream",
     "text": [
      "\n",
      "Epoch: 106 Test set: Average loss: 0.3530, Accuracy: 8823/10000 (88.2%)\n",
      "\n",
      "currnt lr:0.05113787585030449\n"
     ]
    },
    {
     "name": "stderr",
     "output_type": "stream",
     "text": [
      "100%|██████████| 391/391 [02:00<00:00,  3.25it/s]\n",
      "100%|██████████| 40/40 [00:06<00:00,  5.75it/s]\n"
     ]
    },
    {
     "name": "stdout",
     "output_type": "stream",
     "text": [
      "\n",
      "Epoch: 107 Test set: Average loss: 0.3732, Accuracy: 8774/10000 (87.7%)\n",
      "\n",
      "currnt lr:0.04943426266220156\n"
     ]
    },
    {
     "name": "stderr",
     "output_type": "stream",
     "text": [
      "100%|██████████| 391/391 [02:00<00:00,  3.25it/s]\n",
      "100%|██████████| 40/40 [00:06<00:00,  5.80it/s]\n"
     ]
    },
    {
     "name": "stdout",
     "output_type": "stream",
     "text": [
      "\n",
      "Epoch: 108 Test set: Average loss: 0.3856, Accuracy: 8756/10000 (87.6%)\n",
      "\n",
      "currnt lr:0.04775014352840512\n"
     ]
    },
    {
     "name": "stderr",
     "output_type": "stream",
     "text": [
      "100%|██████████| 391/391 [01:59<00:00,  3.27it/s]\n",
      "100%|██████████| 40/40 [00:06<00:00,  5.78it/s]\n"
     ]
    },
    {
     "name": "stdout",
     "output_type": "stream",
     "text": [
      "\n",
      "Epoch: 109 Test set: Average loss: 0.3567, Accuracy: 8836/10000 (88.4%)\n",
      "\n",
      "currnt lr:0.04608616770890002\n"
     ]
    },
    {
     "name": "stderr",
     "output_type": "stream",
     "text": [
      "100%|██████████| 391/391 [01:59<00:00,  3.26it/s]\n",
      "100%|██████████| 40/40 [00:06<00:00,  5.79it/s]\n"
     ]
    },
    {
     "name": "stdout",
     "output_type": "stream",
     "text": [
      "\n",
      "Epoch: 110 Test set: Average loss: 0.3937, Accuracy: 8708/10000 (87.1%)\n",
      "\n",
      "currnt lr:0.044442976698039774\n"
     ]
    },
    {
     "name": "stderr",
     "output_type": "stream",
     "text": [
      "100%|██████████| 391/391 [02:00<00:00,  3.24it/s]\n",
      "100%|██████████| 40/40 [00:07<00:00,  5.71it/s]\n"
     ]
    },
    {
     "name": "stdout",
     "output_type": "stream",
     "text": [
      "\n",
      "Epoch: 111 Test set: Average loss: 0.3556, Accuracy: 8803/10000 (88.0%)\n",
      "\n",
      "currnt lr:0.04282120397723879\n"
     ]
    },
    {
     "name": "stderr",
     "output_type": "stream",
     "text": [
      "100%|██████████| 391/391 [02:00<00:00,  3.24it/s]\n",
      "100%|██████████| 40/40 [00:06<00:00,  5.79it/s]\n"
     ]
    },
    {
     "name": "stdout",
     "output_type": "stream",
     "text": [
      "\n",
      "Epoch: 112 Test set: Average loss: 0.4100, Accuracy: 8680/10000 (86.8%)\n",
      "\n",
      "currnt lr:0.0412214747707527\n"
     ]
    },
    {
     "name": "stderr",
     "output_type": "stream",
     "text": [
      "100%|██████████| 391/391 [01:59<00:00,  3.26it/s]\n",
      "100%|██████████| 40/40 [00:06<00:00,  5.79it/s]\n"
     ]
    },
    {
     "name": "stdout",
     "output_type": "stream",
     "text": [
      "\n",
      "Epoch: 113 Test set: Average loss: 0.3707, Accuracy: 8814/10000 (88.1%)\n",
      "\n",
      "currnt lr:0.03964440580464286\n"
     ]
    },
    {
     "name": "stderr",
     "output_type": "stream",
     "text": [
      "100%|██████████| 391/391 [01:59<00:00,  3.26it/s]\n",
      "100%|██████████| 40/40 [00:06<00:00,  5.73it/s]\n"
     ]
    },
    {
     "name": "stdout",
     "output_type": "stream",
     "text": [
      "\n",
      "Epoch: 114 Test set: Average loss: 0.3540, Accuracy: 8835/10000 (88.3%)\n",
      "\n",
      "currnt lr:0.038090605069016625\n"
     ]
    },
    {
     "name": "stderr",
     "output_type": "stream",
     "text": [
      "100%|██████████| 391/391 [02:00<00:00,  3.25it/s]\n",
      "100%|██████████| 40/40 [00:06<00:00,  5.72it/s]\n"
     ]
    },
    {
     "name": "stdout",
     "output_type": "stream",
     "text": [
      "\n",
      "Epoch: 115 Test set: Average loss: 0.3555, Accuracy: 8793/10000 (87.9%)\n",
      "\n",
      "currnt lr:0.03656067158363543\n"
     ]
    },
    {
     "name": "stderr",
     "output_type": "stream",
     "text": [
      "100%|██████████| 391/391 [02:00<00:00,  3.25it/s]\n",
      "100%|██████████| 40/40 [00:06<00:00,  5.74it/s]\n"
     ]
    },
    {
     "name": "stdout",
     "output_type": "stream",
     "text": [
      "\n",
      "Epoch: 116 Test set: Average loss: 0.3758, Accuracy: 8786/10000 (87.9%)\n",
      "\n",
      "currnt lr:0.03505519516698165\n"
     ]
    },
    {
     "name": "stderr",
     "output_type": "stream",
     "text": [
      "100%|██████████| 391/391 [01:59<00:00,  3.26it/s]\n",
      "100%|██████████| 40/40 [00:06<00:00,  5.83it/s]\n"
     ]
    },
    {
     "name": "stdout",
     "output_type": "stream",
     "text": [
      "\n",
      "Epoch: 117 Test set: Average loss: 0.3954, Accuracy: 8707/10000 (87.1%)\n",
      "\n",
      "currnt lr:0.03357475620887183\n"
     ]
    },
    {
     "name": "stderr",
     "output_type": "stream",
     "text": [
      "100%|██████████| 391/391 [01:59<00:00,  3.26it/s]\n",
      "100%|██████████| 40/40 [00:06<00:00,  5.78it/s]\n"
     ]
    },
    {
     "name": "stdout",
     "output_type": "stream",
     "text": [
      "\n",
      "Epoch: 118 Test set: Average loss: 0.3593, Accuracy: 8869/10000 (88.7%)\n",
      "\n",
      "currnt lr:0.032119925446705846\n"
     ]
    },
    {
     "name": "stderr",
     "output_type": "stream",
     "text": [
      "100%|██████████| 391/391 [02:00<00:00,  3.25it/s]\n",
      "100%|██████████| 40/40 [00:06<00:00,  5.78it/s]\n"
     ]
    },
    {
     "name": "stdout",
     "output_type": "stream",
     "text": [
      "\n",
      "Epoch: 119 Test set: Average loss: 0.3349, Accuracy: 8918/10000 (89.2%)\n",
      "\n",
      "currnt lr:0.030691263745436428\n"
     ]
    },
    {
     "name": "stderr",
     "output_type": "stream",
     "text": [
      "100%|██████████| 391/391 [02:00<00:00,  3.25it/s]\n",
      "100%|██████████| 40/40 [00:06<00:00,  5.78it/s]\n"
     ]
    },
    {
     "name": "stdout",
     "output_type": "stream",
     "text": [
      "\n",
      "Epoch: 120 Test set: Average loss: 0.3336, Accuracy: 8909/10000 (89.1%)\n",
      "\n",
      "currnt lr:0.029289321881345254\n"
     ]
    },
    {
     "name": "stderr",
     "output_type": "stream",
     "text": [
      "100%|██████████| 391/391 [01:59<00:00,  3.27it/s]\n",
      "100%|██████████| 40/40 [00:06<00:00,  5.78it/s]\n"
     ]
    },
    {
     "name": "stdout",
     "output_type": "stream",
     "text": [
      "\n",
      "Epoch: 121 Test set: Average loss: 0.3353, Accuracy: 8945/10000 (89.4%)\n",
      "\n",
      "currnt lr:0.02791464032970812\n"
     ]
    },
    {
     "name": "stderr",
     "output_type": "stream",
     "text": [
      "100%|██████████| 391/391 [02:00<00:00,  3.26it/s]\n",
      "100%|██████████| 40/40 [00:06<00:00,  5.79it/s]\n"
     ]
    },
    {
     "name": "stdout",
     "output_type": "stream",
     "text": [
      "\n",
      "Epoch: 122 Test set: Average loss: 0.3185, Accuracy: 8958/10000 (89.6%)\n",
      "\n",
      "currnt lr:0.026567749056431434\n"
     ]
    },
    {
     "name": "stderr",
     "output_type": "stream",
     "text": [
      "100%|██████████| 391/391 [02:00<00:00,  3.25it/s]\n",
      "100%|██████████| 40/40 [00:06<00:00,  5.76it/s]\n"
     ]
    },
    {
     "name": "stdout",
     "output_type": "stream",
     "text": [
      "\n",
      "Epoch: 123 Test set: Average loss: 0.3324, Accuracy: 8926/10000 (89.3%)\n",
      "\n",
      "currnt lr:0.025249167313740342\n"
     ]
    },
    {
     "name": "stderr",
     "output_type": "stream",
     "text": [
      "100%|██████████| 391/391 [02:00<00:00,  3.25it/s]\n",
      "100%|██████████| 40/40 [00:06<00:00,  5.79it/s]\n"
     ]
    },
    {
     "name": "stdout",
     "output_type": "stream",
     "text": [
      "\n",
      "Epoch: 124 Test set: Average loss: 0.3339, Accuracy: 8953/10000 (89.5%)\n",
      "\n",
      "currnt lr:0.023959403439996908\n"
     ]
    },
    {
     "name": "stderr",
     "output_type": "stream",
     "text": [
      "100%|██████████| 391/391 [01:59<00:00,  3.26it/s]\n",
      "100%|██████████| 40/40 [00:06<00:00,  5.82it/s]\n"
     ]
    },
    {
     "name": "stdout",
     "output_type": "stream",
     "text": [
      "\n",
      "Epoch: 125 Test set: Average loss: 0.3254, Accuracy: 8957/10000 (89.6%)\n",
      "\n",
      "currnt lr:0.022698954663726335\n"
     ]
    },
    {
     "name": "stderr",
     "output_type": "stream",
     "text": [
      "100%|██████████| 391/391 [01:59<00:00,  3.26it/s]\n",
      "100%|██████████| 40/40 [00:06<00:00,  5.78it/s]\n"
     ]
    },
    {
     "name": "stdout",
     "output_type": "stream",
     "text": [
      "\n",
      "Epoch: 126 Test set: Average loss: 0.3309, Accuracy: 8916/10000 (89.2%)\n",
      "\n",
      "currnt lr:0.021468306911925496\n"
     ]
    },
    {
     "name": "stderr",
     "output_type": "stream",
     "text": [
      "100%|██████████| 391/391 [02:00<00:00,  3.25it/s]\n",
      "100%|██████████| 40/40 [00:06<00:00,  5.72it/s]\n"
     ]
    },
    {
     "name": "stdout",
     "output_type": "stream",
     "text": [
      "\n",
      "Epoch: 127 Test set: Average loss: 0.3428, Accuracy: 8917/10000 (89.2%)\n",
      "\n",
      "currnt lr:0.0202679346227293\n"
     ]
    },
    {
     "name": "stderr",
     "output_type": "stream",
     "text": [
      "100%|██████████| 391/391 [02:00<00:00,  3.25it/s]\n",
      "100%|██████████| 40/40 [00:06<00:00,  5.78it/s]\n"
     ]
    },
    {
     "name": "stdout",
     "output_type": "stream",
     "text": [
      "\n",
      "Epoch: 128 Test set: Average loss: 0.3361, Accuracy: 8946/10000 (89.5%)\n",
      "\n",
      "currnt lr:0.019098300562505267\n"
     ]
    },
    {
     "name": "stderr",
     "output_type": "stream",
     "text": [
      "100%|██████████| 391/391 [01:59<00:00,  3.28it/s]\n",
      "100%|██████████| 40/40 [00:06<00:00,  5.83it/s]\n"
     ]
    },
    {
     "name": "stdout",
     "output_type": "stream",
     "text": [
      "\n",
      "Epoch: 129 Test set: Average loss: 0.3155, Accuracy: 8993/10000 (89.9%)\n",
      "\n",
      "currnt lr:0.017959855647448644\n"
     ]
    },
    {
     "name": "stderr",
     "output_type": "stream",
     "text": [
      "100%|██████████| 391/391 [01:59<00:00,  3.27it/s]\n",
      "100%|██████████| 40/40 [00:06<00:00,  5.75it/s]\n"
     ]
    },
    {
     "name": "stdout",
     "output_type": "stream",
     "text": [
      "\n",
      "Epoch: 130 Test set: Average loss: 0.3090, Accuracy: 9024/10000 (90.2%)\n",
      "\n",
      "currnt lr:0.0168530387697455\n"
     ]
    },
    {
     "name": "stderr",
     "output_type": "stream",
     "text": [
      "100%|██████████| 391/391 [02:00<00:00,  3.25it/s]\n",
      "100%|██████████| 40/40 [00:06<00:00,  5.80it/s]\n"
     ]
    },
    {
     "name": "stdout",
     "output_type": "stream",
     "text": [
      "\n",
      "Epoch: 131 Test set: Average loss: 0.3029, Accuracy: 9040/10000 (90.4%)\n",
      "\n",
      "currnt lr:0.015778276628371335\n"
     ]
    },
    {
     "name": "stderr",
     "output_type": "stream",
     "text": [
      "100%|██████████| 391/391 [01:59<00:00,  3.26it/s]\n",
      "100%|██████████| 40/40 [00:06<00:00,  5.82it/s]\n"
     ]
    },
    {
     "name": "stdout",
     "output_type": "stream",
     "text": [
      "\n",
      "Epoch: 132 Test set: Average loss: 0.2943, Accuracy: 9077/10000 (90.8%)\n",
      "\n",
      "currnt lr:0.014735983564590783\n"
     ]
    },
    {
     "name": "stderr",
     "output_type": "stream",
     "text": [
      "100%|██████████| 391/391 [01:59<00:00,  3.27it/s]\n",
      "100%|██████████| 40/40 [00:06<00:00,  5.83it/s]\n"
     ]
    },
    {
     "name": "stdout",
     "output_type": "stream",
     "text": [
      "\n",
      "Epoch: 133 Test set: Average loss: 0.3166, Accuracy: 9041/10000 (90.4%)\n",
      "\n",
      "currnt lr:0.013726561402220817\n"
     ]
    },
    {
     "name": "stderr",
     "output_type": "stream",
     "text": [
      "100%|██████████| 391/391 [01:59<00:00,  3.26it/s]\n",
      "100%|██████████| 40/40 [00:07<00:00,  5.71it/s]\n"
     ]
    },
    {
     "name": "stdout",
     "output_type": "stream",
     "text": [
      "\n",
      "Epoch: 134 Test set: Average loss: 0.3006, Accuracy: 9091/10000 (90.9%)\n",
      "\n",
      "currnt lr:0.012750399292720305\n"
     ]
    },
    {
     "name": "stderr",
     "output_type": "stream",
     "text": [
      "100%|██████████| 391/391 [02:00<00:00,  3.24it/s]\n",
      "100%|██████████| 40/40 [00:06<00:00,  5.77it/s]\n"
     ]
    },
    {
     "name": "stdout",
     "output_type": "stream",
     "text": [
      "\n",
      "Epoch: 135 Test set: Average loss: 0.2939, Accuracy: 9091/10000 (90.9%)\n",
      "\n",
      "currnt lr:0.011807873565164507\n"
     ]
    },
    {
     "name": "stderr",
     "output_type": "stream",
     "text": [
      "100%|██████████| 391/391 [02:00<00:00,  3.25it/s]\n",
      "100%|██████████| 40/40 [00:06<00:00,  5.72it/s]\n"
     ]
    },
    {
     "name": "stdout",
     "output_type": "stream",
     "text": [
      "\n",
      "Epoch: 136 Test set: Average loss: 0.2843, Accuracy: 9099/10000 (91.0%)\n",
      "\n",
      "currnt lr:0.010899347581163222\n"
     ]
    },
    {
     "name": "stderr",
     "output_type": "stream",
     "text": [
      "100%|██████████| 391/391 [01:59<00:00,  3.26it/s]\n",
      "100%|██████████| 40/40 [00:06<00:00,  5.78it/s]\n"
     ]
    },
    {
     "name": "stdout",
     "output_type": "stream",
     "text": [
      "\n",
      "Epoch: 137 Test set: Average loss: 0.2785, Accuracy: 9130/10000 (91.3%)\n",
      "\n",
      "currnt lr:0.01002517159477785\n"
     ]
    },
    {
     "name": "stderr",
     "output_type": "stream",
     "text": [
      "100%|██████████| 391/391 [02:00<00:00,  3.25it/s]\n",
      "100%|██████████| 40/40 [00:06<00:00,  5.79it/s]\n"
     ]
    },
    {
     "name": "stdout",
     "output_type": "stream",
     "text": [
      "\n",
      "Epoch: 138 Test set: Average loss: 0.2962, Accuracy: 9077/10000 (90.8%)\n",
      "\n",
      "currnt lr:0.009185682617491864\n"
     ]
    },
    {
     "name": "stderr",
     "output_type": "stream",
     "text": [
      "100%|██████████| 391/391 [02:00<00:00,  3.24it/s]\n",
      "100%|██████████| 40/40 [00:06<00:00,  5.79it/s]\n"
     ]
    },
    {
     "name": "stdout",
     "output_type": "stream",
     "text": [
      "\n",
      "Epoch: 139 Test set: Average loss: 0.2960, Accuracy: 9094/10000 (90.9%)\n",
      "\n",
      "currnt lr:0.008381204288286415\n"
     ]
    },
    {
     "name": "stderr",
     "output_type": "stream",
     "text": [
      "100%|██████████| 391/391 [02:00<00:00,  3.26it/s]\n",
      "100%|██████████| 40/40 [00:06<00:00,  5.81it/s]\n"
     ]
    },
    {
     "name": "stdout",
     "output_type": "stream",
     "text": [
      "\n",
      "Epoch: 140 Test set: Average loss: 0.2868, Accuracy: 9124/10000 (91.2%)\n",
      "\n",
      "currnt lr:0.007612046748871327\n"
     ]
    },
    {
     "name": "stderr",
     "output_type": "stream",
     "text": [
      "100%|██████████| 391/391 [01:59<00:00,  3.26it/s]\n",
      "100%|██████████| 40/40 [00:06<00:00,  5.79it/s]\n"
     ]
    },
    {
     "name": "stdout",
     "output_type": "stream",
     "text": [
      "\n",
      "Epoch: 141 Test set: Average loss: 0.2882, Accuracy: 9126/10000 (91.3%)\n",
      "\n",
      "currnt lr:0.006878506524119666\n"
     ]
    },
    {
     "name": "stderr",
     "output_type": "stream",
     "text": [
      "100%|██████████| 391/391 [02:00<00:00,  3.25it/s]\n",
      "100%|██████████| 40/40 [00:06<00:00,  5.77it/s]\n"
     ]
    },
    {
     "name": "stdout",
     "output_type": "stream",
     "text": [
      "\n",
      "Epoch: 142 Test set: Average loss: 0.2868, Accuracy: 9130/10000 (91.3%)\n",
      "\n",
      "currnt lr:0.006180866407751584\n"
     ]
    },
    {
     "name": "stderr",
     "output_type": "stream",
     "text": [
      "100%|██████████| 391/391 [02:00<00:00,  3.24it/s]\n",
      "100%|██████████| 40/40 [00:06<00:00,  5.75it/s]\n"
     ]
    },
    {
     "name": "stdout",
     "output_type": "stream",
     "text": [
      "\n",
      "Epoch: 143 Test set: Average loss: 0.2766, Accuracy: 9167/10000 (91.7%)\n",
      "\n",
      "currnt lr:0.005519395353312207\n"
     ]
    },
    {
     "name": "stderr",
     "output_type": "stream",
     "text": [
      "100%|██████████| 391/391 [02:00<00:00,  3.25it/s]\n",
      "100%|██████████| 40/40 [00:06<00:00,  5.79it/s]\n"
     ]
    },
    {
     "name": "stdout",
     "output_type": "stream",
     "text": [
      "\n",
      "Epoch: 144 Test set: Average loss: 0.2824, Accuracy: 9156/10000 (91.6%)\n",
      "\n",
      "currnt lr:0.004894348370484647\n"
     ]
    },
    {
     "name": "stderr",
     "output_type": "stream",
     "text": [
      "100%|██████████| 391/391 [01:59<00:00,  3.26it/s]\n",
      "100%|██████████| 40/40 [00:06<00:00,  5.79it/s]\n"
     ]
    },
    {
     "name": "stdout",
     "output_type": "stream",
     "text": [
      "\n",
      "Epoch: 145 Test set: Average loss: 0.2830, Accuracy: 9161/10000 (91.6%)\n",
      "\n",
      "currnt lr:0.004305966426779118\n"
     ]
    },
    {
     "name": "stderr",
     "output_type": "stream",
     "text": [
      "100%|██████████| 391/391 [02:00<00:00,  3.25it/s]\n",
      "100%|██████████| 40/40 [00:06<00:00,  5.74it/s]\n"
     ]
    },
    {
     "name": "stdout",
     "output_type": "stream",
     "text": [
      "\n",
      "Epoch: 146 Test set: Average loss: 0.2783, Accuracy: 9164/10000 (91.6%)\n",
      "\n",
      "currnt lr:0.0037544763546352835\n"
     ]
    },
    {
     "name": "stderr",
     "output_type": "stream",
     "text": [
      "100%|██████████| 391/391 [02:00<00:00,  3.24it/s]\n",
      "100%|██████████| 40/40 [00:06<00:00,  5.71it/s]\n"
     ]
    },
    {
     "name": "stdout",
     "output_type": "stream",
     "text": [
      "\n",
      "Epoch: 147 Test set: Average loss: 0.2742, Accuracy: 9179/10000 (91.8%)\n",
      "\n",
      "currnt lr:0.003240090763974013\n"
     ]
    },
    {
     "name": "stderr",
     "output_type": "stream",
     "text": [
      "100%|██████████| 391/391 [01:59<00:00,  3.26it/s]\n",
      "100%|██████████| 40/40 [00:06<00:00,  5.80it/s]\n"
     ]
    },
    {
     "name": "stdout",
     "output_type": "stream",
     "text": [
      "\n",
      "Epoch: 148 Test set: Average loss: 0.2781, Accuracy: 9160/10000 (91.6%)\n",
      "\n",
      "currnt lr:0.0027630079602323446\n"
     ]
    },
    {
     "name": "stderr",
     "output_type": "stream",
     "text": [
      "100%|██████████| 391/391 [01:59<00:00,  3.26it/s]\n",
      "100%|██████████| 40/40 [00:06<00:00,  5.78it/s]\n"
     ]
    },
    {
     "name": "stdout",
     "output_type": "stream",
     "text": [
      "\n",
      "Epoch: 149 Test set: Average loss: 0.2808, Accuracy: 9170/10000 (91.7%)\n",
      "\n",
      "currnt lr:0.0023234118679127612\n"
     ]
    },
    {
     "name": "stderr",
     "output_type": "stream",
     "text": [
      "100%|██████████| 391/391 [02:00<00:00,  3.24it/s]\n",
      "100%|██████████| 40/40 [00:06<00:00,  5.77it/s]\n"
     ]
    },
    {
     "name": "stdout",
     "output_type": "stream",
     "text": [
      "\n",
      "Epoch: 150 Test set: Average loss: 0.2816, Accuracy: 9171/10000 (91.7%)\n",
      "\n",
      "currnt lr:0.001921471959676957\n"
     ]
    },
    {
     "name": "stderr",
     "output_type": "stream",
     "text": [
      "100%|██████████| 391/391 [02:00<00:00,  3.24it/s]\n",
      "100%|██████████| 40/40 [00:07<00:00,  5.70it/s]\n"
     ]
    },
    {
     "name": "stdout",
     "output_type": "stream",
     "text": [
      "\n",
      "Epoch: 151 Test set: Average loss: 0.2803, Accuracy: 9186/10000 (91.9%)\n",
      "\n",
      "currnt lr:0.0015573431910108405\n"
     ]
    },
    {
     "name": "stderr",
     "output_type": "stream",
     "text": [
      "100%|██████████| 391/391 [02:00<00:00,  3.25it/s]\n",
      "100%|██████████| 40/40 [00:06<00:00,  5.79it/s]\n"
     ]
    },
    {
     "name": "stdout",
     "output_type": "stream",
     "text": [
      "\n",
      "Epoch: 152 Test set: Average loss: 0.2783, Accuracy: 9180/10000 (91.8%)\n",
      "\n",
      "currnt lr:0.0012311659404862342\n"
     ]
    },
    {
     "name": "stderr",
     "output_type": "stream",
     "text": [
      "100%|██████████| 391/391 [01:59<00:00,  3.26it/s]\n",
      "100%|██████████| 40/40 [00:06<00:00,  5.74it/s]\n"
     ]
    },
    {
     "name": "stdout",
     "output_type": "stream",
     "text": [
      "\n",
      "Epoch: 153 Test set: Average loss: 0.2775, Accuracy: 9196/10000 (92.0%)\n",
      "\n",
      "currnt lr:0.0009430659556422749\n"
     ]
    },
    {
     "name": "stderr",
     "output_type": "stream",
     "text": [
      "100%|██████████| 391/391 [02:00<00:00,  3.24it/s]\n",
      "100%|██████████| 40/40 [00:06<00:00,  5.76it/s]\n"
     ]
    },
    {
     "name": "stdout",
     "output_type": "stream",
     "text": [
      "\n",
      "Epoch: 154 Test set: Average loss: 0.2822, Accuracy: 9179/10000 (91.8%)\n",
      "\n",
      "currnt lr:0.0006931543045073708\n"
     ]
    },
    {
     "name": "stderr",
     "output_type": "stream",
     "text": [
      "100%|██████████| 391/391 [02:00<00:00,  3.24it/s]\n",
      "100%|██████████| 40/40 [00:07<00:00,  5.66it/s]\n"
     ]
    },
    {
     "name": "stdout",
     "output_type": "stream",
     "text": [
      "\n",
      "Epoch: 155 Test set: Average loss: 0.2835, Accuracy: 9189/10000 (91.9%)\n",
      "\n",
      "currnt lr:0.00048152733278031826\n"
     ]
    },
    {
     "name": "stderr",
     "output_type": "stream",
     "text": [
      "100%|██████████| 391/391 [02:00<00:00,  3.26it/s]\n",
      "100%|██████████| 40/40 [00:06<00:00,  5.75it/s]\n"
     ]
    },
    {
     "name": "stdout",
     "output_type": "stream",
     "text": [
      "\n",
      "Epoch: 156 Test set: Average loss: 0.2792, Accuracy: 9195/10000 (91.9%)\n",
      "\n",
      "currnt lr:0.0003082666266872036\n"
     ]
    },
    {
     "name": "stderr",
     "output_type": "stream",
     "text": [
      "100%|██████████| 391/391 [02:00<00:00,  3.26it/s]\n",
      "100%|██████████| 40/40 [00:06<00:00,  5.74it/s]\n"
     ]
    },
    {
     "name": "stdout",
     "output_type": "stream",
     "text": [
      "\n",
      "Epoch: 157 Test set: Average loss: 0.2787, Accuracy: 9187/10000 (91.9%)\n",
      "\n",
      "currnt lr:0.00017343898152841764\n"
     ]
    },
    {
     "name": "stderr",
     "output_type": "stream",
     "text": [
      "100%|██████████| 391/391 [02:00<00:00,  3.24it/s]\n",
      "100%|██████████| 40/40 [00:07<00:00,  5.70it/s]\n"
     ]
    },
    {
     "name": "stdout",
     "output_type": "stream",
     "text": [
      "\n",
      "Epoch: 158 Test set: Average loss: 0.2833, Accuracy: 9185/10000 (91.8%)\n",
      "\n",
      "currnt lr:7.709637592770991e-05\n"
     ]
    },
    {
     "name": "stderr",
     "output_type": "stream",
     "text": [
      "100%|██████████| 391/391 [02:00<00:00,  3.24it/s]\n",
      "100%|██████████| 40/40 [00:06<00:00,  5.76it/s]\n"
     ]
    },
    {
     "name": "stdout",
     "output_type": "stream",
     "text": [
      "\n",
      "Epoch: 159 Test set: Average loss: 0.2790, Accuracy: 9188/10000 (91.9%)\n",
      "\n",
      "currnt lr:1.9275951793518153e-05\n"
     ]
    }
   ],
   "source": [
    "best_prec1 = 0. if best_prec1 == -1 else best_prec1\n",
    "scheduler=optim.lr_scheduler.CosineAnnealingLR(optimizer,T_max=args.epochs,eta_min=0)\n",
    "\n",
    "for epoch in range(args.start_epoch, args.epochs):\n",
    "    if args.arch=='USMobileNetV2':\n",
    "        trainUS()\n",
    "        prec1=test(test_width=1.0,recal=False,epoch=epoch)\n",
    "    else:\n",
    "        train()\n",
    "        prec1 = test(epoch=epoch)\n",
    "    scheduler.step(epoch)\n",
    "    lr_current = optimizer.param_groups[0]['lr']\n",
    "    print(\"currnt lr:{}\".format(lr_current))\n",
    "    is_best = prec1 > best_prec1\n",
    "    best_prec1 = max(prec1, best_prec1)\n",
    "    if is_best:\n",
    "        ckptfile = os.path.join(savepath, 'model_best.pth.tar')\n",
    "    else:\n",
    "        ckptfile = os.path.join(savepath, 'checkpoint.pth.tar')\n",
    "        \n",
    "    torch.save({\n",
    "        'epoch': epoch + 1,\n",
    "        'state_dict': model.state_dict(),\n",
    "        'best_prec1': best_prec1,\n",
    "        'optimizer': optimizer.state_dict(),\n",
    "    }, ckptfile)"
   ]
  },
  {
   "cell_type": "code",
   "execution_count": 13,
   "metadata": {},
   "outputs": [
    {
     "name": "stderr",
     "output_type": "stream",
     "text": [
      "100%|██████████| 40/40 [00:06<00:00,  6.00it/s]"
     ]
    },
    {
     "name": "stdout",
     "output_type": "stream",
     "text": [
      "\n",
      "Epoch: 0 Test set: Average loss: 0.2790, Accuracy: 9188/10000 (91.9%)\n",
      "\n",
      "Test accuracy 0.9188\n"
     ]
    },
    {
     "name": "stderr",
     "output_type": "stream",
     "text": [
      "\n"
     ]
    }
   ],
   "source": [
    "\n",
    "if args.arch=='USMobileNetV2':\n",
    "    export2normal()\n",
    "    res_acc=[1.0]*len(FLAGS.width_mult_list)\n",
    "    for idx,width in enumerate(FLAGS.width_mult_list):\n",
    "        acc=test(width,recal=True)\n",
    "        res_acc[idx]=acc\n",
    "        print(\"Test accuracy for width {} is {}\".format(width,acc))\n",
    "else:\n",
    "    print(\"Test accuracy {}\".format(test(0)))\n"
   ]
  },
  {
   "cell_type": "code",
   "execution_count": 14,
   "metadata": {},
   "outputs": [
    {
     "name": "stdout",
     "output_type": "stream",
     "text": [
      "checkpoints/MobileNetV2/sr/checkpoint.pth.tar\n"
     ]
    }
   ],
   "source": [
    "print(ckptfile)\n",
    "torch.save({\n",
    "    'epoch': epoch + 1,\n",
    "    'state_dict': model.state_dict(),\n",
    "    'best_prec1': best_prec1,\n",
    "    'optimizer': optimizer.state_dict(),\n",
    "}, ckptfile)"
   ]
  },
  {
   "cell_type": "code",
   "execution_count": 16,
   "metadata": {},
   "outputs": [
    {
     "name": "stdout",
     "output_type": "stream",
     "text": [
      "0.2.json  0.4.json  0.6.json  checkpoint.pth.tar  model_best.pth.tar\r\n"
     ]
    }
   ],
   "source": [
    "!ls checkpoints/MobileNetV2/sr"
   ]
  },
  {
   "cell_type": "code",
   "execution_count": null,
   "metadata": {},
   "outputs": [],
   "source": []
  }
 ],
 "metadata": {
  "kernelspec": {
   "display_name": "tf_tutorial",
   "language": "python",
   "name": "tf_tutorial"
  },
  "language_info": {
   "codemirror_mode": {
    "name": "ipython",
    "version": 3
   },
   "file_extension": ".py",
   "mimetype": "text/x-python",
   "name": "python",
   "nbconvert_exporter": "python",
   "pygments_lexer": "ipython3",
   "version": "3.7.0"
  }
 },
 "nbformat": 4,
 "nbformat_minor": 4
}
